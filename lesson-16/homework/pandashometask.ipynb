{
 "cells": [
  {
   "cell_type": "code",
   "outputs": [],
   "source": [
    "import sqlite3\n",
    "\n",
    "import pandas as pd"
   ],
   "metadata": {
    "collapsed": false,
    "ExecuteTime": {
     "end_time": "2025-03-31T18:30:49.163367Z",
     "start_time": "2025-03-31T18:30:49.154811Z"
    }
   },
   "id": "27836e4a514216ff",
   "execution_count": 36
  },
  {
   "cell_type": "code",
   "outputs": [],
   "source": [
    "# Read customers table from chinook.db\n",
    "def read_sqlite_db(db_path):\n",
    "    conn = sqlite3.connect(db_path)\n",
    "    df = pd.read_sql(\"SELECT * FROM customers\", conn)\n",
    "    conn.close()\n",
    "    print(\"First 10 rows of customers table:\")\n",
    "    display(df.head(10))"
   ],
   "metadata": {
    "collapsed": false,
    "ExecuteTime": {
     "end_time": "2025-03-31T18:30:49.475571Z",
     "start_time": "2025-03-31T18:30:49.467369Z"
    }
   },
   "id": "92d93e76494ebfb5",
   "execution_count": 37
  },
  {
   "cell_type": "code",
   "outputs": [
    {
     "name": "stdout",
     "output_type": "stream",
     "text": [
      "First 10 rows of customers table:\n"
     ]
    },
    {
     "data": {
      "text/plain": "   CustomerId  FirstName     LastName  \\\n0           1       Luís    Gonçalves   \n1           2     Leonie       Köhler   \n2           3   François     Tremblay   \n3           4      Bjørn       Hansen   \n4           5  František  Wichterlová   \n5           6     Helena         Holý   \n6           7     Astrid       Gruber   \n7           8       Daan      Peeters   \n8           9       Kara      Nielsen   \n9          10    Eduardo      Martins   \n\n                                            Company  \\\n0  Embraer - Empresa Brasileira de Aeronáutica S.A.   \n1                                              None   \n2                                              None   \n3                                              None   \n4                                  JetBrains s.r.o.   \n5                                              None   \n6                                              None   \n7                                              None   \n8                                              None   \n9                                  Woodstock Discos   \n\n                                Address                 City State  \\\n0       Av. Brigadeiro Faria Lima, 2170  São José dos Campos    SP   \n1               Theodor-Heuss-Straße 34            Stuttgart  None   \n2                     1498 rue Bélanger             Montréal    QC   \n3                      Ullevålsveien 14                 Oslo  None   \n4                         Klanova 9/506               Prague  None   \n5                         Rilská 3174/6               Prague  None   \n6  Rotenturmstraße 4, 1010 Innere Stadt               Vienne  None   \n7                       Grétrystraat 63             Brussels  None   \n8                   Sønder Boulevard 51           Copenhagen  None   \n9             Rua Dr. Falcão Filho, 155            São Paulo    SP   \n\n          Country PostalCode               Phone                 Fax  \\\n0          Brazil  12227-000  +55 (12) 3923-5555  +55 (12) 3923-5566   \n1         Germany      70174    +49 0711 2842222                None   \n2          Canada    H2G 1A7   +1 (514) 721-4711                None   \n3          Norway       0171     +47 22 44 22 22                None   \n4  Czech Republic      14700    +420 2 4172 5555    +420 2 4172 5555   \n5  Czech Republic      14300    +420 2 4177 0449                None   \n6         Austria       1010      +43 01 5134505                None   \n7         Belgium       1000    +32 02 219 03 03                None   \n8         Denmark       1720      +453 3331 9991                None   \n9          Brazil  01007-010  +55 (11) 3033-5446  +55 (11) 3033-4564   \n\n                      Email  SupportRepId  \n0      luisg@embraer.com.br             3  \n1     leonekohler@surfeu.de             5  \n2       ftremblay@gmail.com             3  \n3     bjorn.hansen@yahoo.no             4  \n4  frantisekw@jetbrains.com             4  \n5           hholy@gmail.com             5  \n6    astrid.gruber@apple.at             5  \n7     daan_peeters@apple.be             4  \n8     kara.nielsen@jubii.dk             4  \n9  eduardo@woodstock.com.br             4  ",
      "text/html": "<div>\n<style scoped>\n    .dataframe tbody tr th:only-of-type {\n        vertical-align: middle;\n    }\n\n    .dataframe tbody tr th {\n        vertical-align: top;\n    }\n\n    .dataframe thead th {\n        text-align: right;\n    }\n</style>\n<table border=\"1\" class=\"dataframe\">\n  <thead>\n    <tr style=\"text-align: right;\">\n      <th></th>\n      <th>CustomerId</th>\n      <th>FirstName</th>\n      <th>LastName</th>\n      <th>Company</th>\n      <th>Address</th>\n      <th>City</th>\n      <th>State</th>\n      <th>Country</th>\n      <th>PostalCode</th>\n      <th>Phone</th>\n      <th>Fax</th>\n      <th>Email</th>\n      <th>SupportRepId</th>\n    </tr>\n  </thead>\n  <tbody>\n    <tr>\n      <th>0</th>\n      <td>1</td>\n      <td>Luís</td>\n      <td>Gonçalves</td>\n      <td>Embraer - Empresa Brasileira de Aeronáutica S.A.</td>\n      <td>Av. Brigadeiro Faria Lima, 2170</td>\n      <td>São José dos Campos</td>\n      <td>SP</td>\n      <td>Brazil</td>\n      <td>12227-000</td>\n      <td>+55 (12) 3923-5555</td>\n      <td>+55 (12) 3923-5566</td>\n      <td>luisg@embraer.com.br</td>\n      <td>3</td>\n    </tr>\n    <tr>\n      <th>1</th>\n      <td>2</td>\n      <td>Leonie</td>\n      <td>Köhler</td>\n      <td>None</td>\n      <td>Theodor-Heuss-Straße 34</td>\n      <td>Stuttgart</td>\n      <td>None</td>\n      <td>Germany</td>\n      <td>70174</td>\n      <td>+49 0711 2842222</td>\n      <td>None</td>\n      <td>leonekohler@surfeu.de</td>\n      <td>5</td>\n    </tr>\n    <tr>\n      <th>2</th>\n      <td>3</td>\n      <td>François</td>\n      <td>Tremblay</td>\n      <td>None</td>\n      <td>1498 rue Bélanger</td>\n      <td>Montréal</td>\n      <td>QC</td>\n      <td>Canada</td>\n      <td>H2G 1A7</td>\n      <td>+1 (514) 721-4711</td>\n      <td>None</td>\n      <td>ftremblay@gmail.com</td>\n      <td>3</td>\n    </tr>\n    <tr>\n      <th>3</th>\n      <td>4</td>\n      <td>Bjørn</td>\n      <td>Hansen</td>\n      <td>None</td>\n      <td>Ullevålsveien 14</td>\n      <td>Oslo</td>\n      <td>None</td>\n      <td>Norway</td>\n      <td>0171</td>\n      <td>+47 22 44 22 22</td>\n      <td>None</td>\n      <td>bjorn.hansen@yahoo.no</td>\n      <td>4</td>\n    </tr>\n    <tr>\n      <th>4</th>\n      <td>5</td>\n      <td>František</td>\n      <td>Wichterlová</td>\n      <td>JetBrains s.r.o.</td>\n      <td>Klanova 9/506</td>\n      <td>Prague</td>\n      <td>None</td>\n      <td>Czech Republic</td>\n      <td>14700</td>\n      <td>+420 2 4172 5555</td>\n      <td>+420 2 4172 5555</td>\n      <td>frantisekw@jetbrains.com</td>\n      <td>4</td>\n    </tr>\n    <tr>\n      <th>5</th>\n      <td>6</td>\n      <td>Helena</td>\n      <td>Holý</td>\n      <td>None</td>\n      <td>Rilská 3174/6</td>\n      <td>Prague</td>\n      <td>None</td>\n      <td>Czech Republic</td>\n      <td>14300</td>\n      <td>+420 2 4177 0449</td>\n      <td>None</td>\n      <td>hholy@gmail.com</td>\n      <td>5</td>\n    </tr>\n    <tr>\n      <th>6</th>\n      <td>7</td>\n      <td>Astrid</td>\n      <td>Gruber</td>\n      <td>None</td>\n      <td>Rotenturmstraße 4, 1010 Innere Stadt</td>\n      <td>Vienne</td>\n      <td>None</td>\n      <td>Austria</td>\n      <td>1010</td>\n      <td>+43 01 5134505</td>\n      <td>None</td>\n      <td>astrid.gruber@apple.at</td>\n      <td>5</td>\n    </tr>\n    <tr>\n      <th>7</th>\n      <td>8</td>\n      <td>Daan</td>\n      <td>Peeters</td>\n      <td>None</td>\n      <td>Grétrystraat 63</td>\n      <td>Brussels</td>\n      <td>None</td>\n      <td>Belgium</td>\n      <td>1000</td>\n      <td>+32 02 219 03 03</td>\n      <td>None</td>\n      <td>daan_peeters@apple.be</td>\n      <td>4</td>\n    </tr>\n    <tr>\n      <th>8</th>\n      <td>9</td>\n      <td>Kara</td>\n      <td>Nielsen</td>\n      <td>None</td>\n      <td>Sønder Boulevard 51</td>\n      <td>Copenhagen</td>\n      <td>None</td>\n      <td>Denmark</td>\n      <td>1720</td>\n      <td>+453 3331 9991</td>\n      <td>None</td>\n      <td>kara.nielsen@jubii.dk</td>\n      <td>4</td>\n    </tr>\n    <tr>\n      <th>9</th>\n      <td>10</td>\n      <td>Eduardo</td>\n      <td>Martins</td>\n      <td>Woodstock Discos</td>\n      <td>Rua Dr. Falcão Filho, 155</td>\n      <td>São Paulo</td>\n      <td>SP</td>\n      <td>Brazil</td>\n      <td>01007-010</td>\n      <td>+55 (11) 3033-5446</td>\n      <td>+55 (11) 3033-4564</td>\n      <td>eduardo@woodstock.com.br</td>\n      <td>4</td>\n    </tr>\n  </tbody>\n</table>\n</div>"
     },
     "metadata": {},
     "output_type": "display_data"
    }
   ],
   "source": [
    "read_sqlite_db(\"chinook.db\")"
   ],
   "metadata": {
    "collapsed": false,
    "ExecuteTime": {
     "end_time": "2025-03-31T18:30:49.658262Z",
     "start_time": "2025-03-31T18:30:49.522541Z"
    }
   },
   "id": "6d9669328a48e585",
   "execution_count": 38
  },
  {
   "cell_type": "code",
   "outputs": [],
   "source": [
    "# Read JSON file\n",
    "def read_json(json_path):\n",
    "    df = pd.read_json(json_path)\n",
    "    print(\"Shape of iris dataset:\", df.shape)\n",
    "    print(\"Column names:\", df.columns.tolist())\n",
    "    display(df.head())"
   ],
   "metadata": {
    "collapsed": false,
    "ExecuteTime": {
     "end_time": "2025-03-31T18:30:49.681619Z",
     "start_time": "2025-03-31T18:30:49.665584Z"
    }
   },
   "id": "5911d74d94463d34",
   "execution_count": 39
  },
  {
   "cell_type": "code",
   "outputs": [
    {
     "name": "stdout",
     "output_type": "stream",
     "text": [
      "Shape of iris dataset: (150, 5)\n",
      "Column names: ['sepalLength', 'sepalWidth', 'petalLength', 'petalWidth', 'species']\n"
     ]
    },
    {
     "data": {
      "text/plain": "   sepalLength  sepalWidth  petalLength  petalWidth species\n0          5.1         3.5          1.4         0.2  setosa\n1          4.9         3.0          1.4         0.2  setosa\n2          4.7         3.2          1.3         0.2  setosa\n3          4.6         3.1          1.5         0.2  setosa\n4          5.0         3.6          1.4         0.2  setosa",
      "text/html": "<div>\n<style scoped>\n    .dataframe tbody tr th:only-of-type {\n        vertical-align: middle;\n    }\n\n    .dataframe tbody tr th {\n        vertical-align: top;\n    }\n\n    .dataframe thead th {\n        text-align: right;\n    }\n</style>\n<table border=\"1\" class=\"dataframe\">\n  <thead>\n    <tr style=\"text-align: right;\">\n      <th></th>\n      <th>sepalLength</th>\n      <th>sepalWidth</th>\n      <th>petalLength</th>\n      <th>petalWidth</th>\n      <th>species</th>\n    </tr>\n  </thead>\n  <tbody>\n    <tr>\n      <th>0</th>\n      <td>5.1</td>\n      <td>3.5</td>\n      <td>1.4</td>\n      <td>0.2</td>\n      <td>setosa</td>\n    </tr>\n    <tr>\n      <th>1</th>\n      <td>4.9</td>\n      <td>3.0</td>\n      <td>1.4</td>\n      <td>0.2</td>\n      <td>setosa</td>\n    </tr>\n    <tr>\n      <th>2</th>\n      <td>4.7</td>\n      <td>3.2</td>\n      <td>1.3</td>\n      <td>0.2</td>\n      <td>setosa</td>\n    </tr>\n    <tr>\n      <th>3</th>\n      <td>4.6</td>\n      <td>3.1</td>\n      <td>1.5</td>\n      <td>0.2</td>\n      <td>setosa</td>\n    </tr>\n    <tr>\n      <th>4</th>\n      <td>5.0</td>\n      <td>3.6</td>\n      <td>1.4</td>\n      <td>0.2</td>\n      <td>setosa</td>\n    </tr>\n  </tbody>\n</table>\n</div>"
     },
     "metadata": {},
     "output_type": "display_data"
    }
   ],
   "source": [
    "read_json(\"iris.json\")"
   ],
   "metadata": {
    "collapsed": false,
    "ExecuteTime": {
     "end_time": "2025-03-31T18:30:49.773606Z",
     "start_time": "2025-03-31T18:30:49.688940Z"
    }
   },
   "id": "e3bbafa3686d4253",
   "execution_count": 40
  },
  {
   "cell_type": "code",
   "outputs": [],
   "source": [
    "# Read Excel file\n",
    "def read_excel(excel_path):\n",
    "    df = pd.read_excel(excel_path)\n",
    "    print(\"First 5 rows of Titanic dataset:\")\n",
    "    display(df.head())"
   ],
   "metadata": {
    "collapsed": false,
    "ExecuteTime": {
     "end_time": "2025-03-31T18:30:49.813991Z",
     "start_time": "2025-03-31T18:30:49.785273Z"
    }
   },
   "id": "e089af78a28f4c8a",
   "execution_count": 41
  },
  {
   "cell_type": "code",
   "outputs": [
    {
     "name": "stdout",
     "output_type": "stream",
     "text": [
      "Requirement already satisfied: openpyxl in c:\\users\\user\\appdata\\local\\programs\\python\\python312\\lib\\site-packages (3.1.5)\n",
      "Requirement already satisfied: et-xmlfile in c:\\users\\user\\appdata\\local\\programs\\python\\python312\\lib\\site-packages (from openpyxl) (2.0.0)\n",
      "Note: you may need to restart the kernel to use updated packages.\n"
     ]
    }
   ],
   "source": [
    "%pip install openpyxl"
   ],
   "metadata": {
    "collapsed": false,
    "ExecuteTime": {
     "end_time": "2025-03-31T18:30:57.139654Z",
     "start_time": "2025-03-31T18:30:49.818745Z"
    }
   },
   "id": "85f94baed6a1b821",
   "execution_count": 42
  },
  {
   "cell_type": "code",
   "outputs": [
    {
     "name": "stdout",
     "output_type": "stream",
     "text": [
      "First 5 rows of Titanic dataset:\n"
     ]
    },
    {
     "data": {
      "text/plain": "   PassengerId  Survived  Pclass  \\\n0            1         0       3   \n1            2         1       1   \n2            3         1       3   \n3            4         1       1   \n4            5         0       3   \n\n                                                Name     Sex   Age  SibSp  \\\n0                            Braund, Mr. Owen Harris    male  22.0      1   \n1  Cumings, Mrs. John Bradley (Florence Briggs Th...  female  38.0      1   \n2                             Heikkinen, Miss. Laina  female  26.0      0   \n3       Futrelle, Mrs. Jacques Heath (Lily May Peel)  female  35.0      1   \n4                           Allen, Mr. William Henry    male  35.0      0   \n\n   Parch            Ticket     Fare Cabin Embarked  \n0      0         A/5 21171   7.2500   NaN        S  \n1      0          PC 17599  71.2833   C85        C  \n2      0  STON/O2. 3101282   7.9250   NaN        S  \n3      0            113803  53.1000  C123        S  \n4      0            373450   8.0500   NaN        S  ",
      "text/html": "<div>\n<style scoped>\n    .dataframe tbody tr th:only-of-type {\n        vertical-align: middle;\n    }\n\n    .dataframe tbody tr th {\n        vertical-align: top;\n    }\n\n    .dataframe thead th {\n        text-align: right;\n    }\n</style>\n<table border=\"1\" class=\"dataframe\">\n  <thead>\n    <tr style=\"text-align: right;\">\n      <th></th>\n      <th>PassengerId</th>\n      <th>Survived</th>\n      <th>Pclass</th>\n      <th>Name</th>\n      <th>Sex</th>\n      <th>Age</th>\n      <th>SibSp</th>\n      <th>Parch</th>\n      <th>Ticket</th>\n      <th>Fare</th>\n      <th>Cabin</th>\n      <th>Embarked</th>\n    </tr>\n  </thead>\n  <tbody>\n    <tr>\n      <th>0</th>\n      <td>1</td>\n      <td>0</td>\n      <td>3</td>\n      <td>Braund, Mr. Owen Harris</td>\n      <td>male</td>\n      <td>22.0</td>\n      <td>1</td>\n      <td>0</td>\n      <td>A/5 21171</td>\n      <td>7.2500</td>\n      <td>NaN</td>\n      <td>S</td>\n    </tr>\n    <tr>\n      <th>1</th>\n      <td>2</td>\n      <td>1</td>\n      <td>1</td>\n      <td>Cumings, Mrs. John Bradley (Florence Briggs Th...</td>\n      <td>female</td>\n      <td>38.0</td>\n      <td>1</td>\n      <td>0</td>\n      <td>PC 17599</td>\n      <td>71.2833</td>\n      <td>C85</td>\n      <td>C</td>\n    </tr>\n    <tr>\n      <th>2</th>\n      <td>3</td>\n      <td>1</td>\n      <td>3</td>\n      <td>Heikkinen, Miss. Laina</td>\n      <td>female</td>\n      <td>26.0</td>\n      <td>0</td>\n      <td>0</td>\n      <td>STON/O2. 3101282</td>\n      <td>7.9250</td>\n      <td>NaN</td>\n      <td>S</td>\n    </tr>\n    <tr>\n      <th>3</th>\n      <td>4</td>\n      <td>1</td>\n      <td>1</td>\n      <td>Futrelle, Mrs. Jacques Heath (Lily May Peel)</td>\n      <td>female</td>\n      <td>35.0</td>\n      <td>1</td>\n      <td>0</td>\n      <td>113803</td>\n      <td>53.1000</td>\n      <td>C123</td>\n      <td>S</td>\n    </tr>\n    <tr>\n      <th>4</th>\n      <td>5</td>\n      <td>0</td>\n      <td>3</td>\n      <td>Allen, Mr. William Henry</td>\n      <td>male</td>\n      <td>35.0</td>\n      <td>0</td>\n      <td>0</td>\n      <td>373450</td>\n      <td>8.0500</td>\n      <td>NaN</td>\n      <td>S</td>\n    </tr>\n  </tbody>\n</table>\n</div>"
     },
     "metadata": {},
     "output_type": "display_data"
    }
   ],
   "source": [
    "read_excel(\"titanic.xlsx\")"
   ],
   "metadata": {
    "collapsed": false,
    "ExecuteTime": {
     "end_time": "2025-03-31T18:30:57.558692Z",
     "start_time": "2025-03-31T18:30:57.144868Z"
    }
   },
   "id": "18e5243c6c071f69",
   "execution_count": 43
  },
  {
   "cell_type": "code",
   "outputs": [],
   "source": [
    "# Read Parquet file\n",
    "def read_parquet(parquet_path):\n",
    "    df = pd.read_parquet(parquet_path)\n",
    "    print(\"Flights dataset info:\")\n",
    "    display(df.head())\n",
    "    df.info()"
   ],
   "metadata": {
    "collapsed": false,
    "ExecuteTime": {
     "end_time": "2025-03-31T18:30:57.572164Z",
     "start_time": "2025-03-31T18:30:57.562970Z"
    }
   },
   "id": "da7fb1362644ec7d",
   "execution_count": 44
  },
  {
   "cell_type": "code",
   "outputs": [
    {
     "name": "stdout",
     "output_type": "stream",
     "text": [
      "Requirement already satisfied: fastparquet in c:\\users\\user\\appdata\\local\\programs\\python\\python312\\lib\\site-packages (2024.11.0)\n",
      "Requirement already satisfied: pandas>=1.5.0 in c:\\users\\user\\appdata\\local\\programs\\python\\python312\\lib\\site-packages (from fastparquet) (2.2.2)\n",
      "Requirement already satisfied: numpy in c:\\users\\user\\appdata\\local\\programs\\python\\python312\\lib\\site-packages (from fastparquet) (1.26.4)\n",
      "Requirement already satisfied: cramjam>=2.3 in c:\\users\\user\\appdata\\local\\programs\\python\\python312\\lib\\site-packages (from fastparquet) (2.9.1)\n",
      "Requirement already satisfied: fsspec in c:\\users\\user\\appdata\\local\\programs\\python\\python312\\lib\\site-packages (from fastparquet) (2025.3.2)\n",
      "Requirement already satisfied: packaging in c:\\users\\user\\appdata\\local\\programs\\python\\python312\\lib\\site-packages (from fastparquet) (24.0)\n",
      "Requirement already satisfied: python-dateutil>=2.8.2 in c:\\users\\user\\appdata\\local\\programs\\python\\python312\\lib\\site-packages (from pandas>=1.5.0->fastparquet) (2.9.0.post0)\n",
      "Requirement already satisfied: pytz>=2020.1 in c:\\users\\user\\appdata\\local\\programs\\python\\python312\\lib\\site-packages (from pandas>=1.5.0->fastparquet) (2024.1)\n",
      "Requirement already satisfied: tzdata>=2022.7 in c:\\users\\user\\appdata\\local\\programs\\python\\python312\\lib\\site-packages (from pandas>=1.5.0->fastparquet) (2024.1)\n",
      "Requirement already satisfied: six>=1.5 in c:\\users\\user\\appdata\\local\\programs\\python\\python312\\lib\\site-packages (from python-dateutil>=2.8.2->pandas>=1.5.0->fastparquet) (1.16.0)\n",
      "Note: you may need to restart the kernel to use updated packages.\n"
     ]
    }
   ],
   "source": [
    "%pip install fastparquet"
   ],
   "metadata": {
    "collapsed": false,
    "ExecuteTime": {
     "end_time": "2025-03-31T18:31:02.291607Z",
     "start_time": "2025-03-31T18:30:57.578299Z"
    }
   },
   "id": "19722d7d530caaac",
   "execution_count": 45
  },
  {
   "cell_type": "markdown",
   "source": [],
   "metadata": {
    "collapsed": false
   },
   "id": "c7fe6d109a353f82"
  },
  {
   "cell_type": "code",
   "outputs": [],
   "source": [
    "def read_csv(csv_path):\n",
    "    df = pd.read_csv(csv_path)\n",
    "    print(\"Random 10 rows from movie dataset:\")\n",
    "    display(df.sample(10))"
   ],
   "metadata": {
    "collapsed": false,
    "ExecuteTime": {
     "end_time": "2025-03-31T18:31:02.305660Z",
     "start_time": "2025-03-31T18:31:02.294291Z"
    }
   },
   "id": "749223a2beb794ca",
   "execution_count": 46
  },
  {
   "cell_type": "code",
   "outputs": [
    {
     "name": "stdout",
     "output_type": "stream",
     "text": [
      "Random 10 rows from movie dataset:\n"
     ]
    },
    {
     "data": {
      "text/plain": "      color        director_name  num_critic_for_reviews  duration  \\\n2468  Color         Daniel Barnz                   148.0      86.0   \n1436  Color  Catherine Hardwicke                   122.0     101.0   \n4434  Color            Joe Dante                   161.0      91.0   \n4690  Color             Paul Fox                    80.0      80.0   \n4136  Color          James Algar                    99.0     120.0   \n4898  Color          John Waters                    73.0     108.0   \n52    Color   Guillermo del Toro                   575.0     131.0   \n1613  Color            Ted Demme                   147.0     124.0   \n65    Color         Bryan Singer                   396.0     144.0   \n590   Color         Betty Thomas                   107.0      88.0   \n\n      director_facebook_likes  actor_3_facebook_likes         actor_2_name  \\\n2468                     33.0                   583.0      Mary-Kate Olsen   \n1436                    308.0                   206.0          Hiam Abbass   \n4434                    287.0                   725.0       Robert Picardo   \n4690                      3.0                    39.0         Jeff Seymour   \n4136                     11.0                     NaN         Deems Taylor   \n4898                      0.0                   105.0           Mink Stole   \n52                        0.0                   919.0  Clifton Collins Jr.   \n1613                     47.0                   877.0         Ethan Suplee   \n65                        0.0                  1000.0   Michael Fassbender   \n590                      84.0                  1000.0      Bridgit Mendler   \n\n      actor_1_facebook_likes        gross  \\\n2468                 15000.0   27854896.0   \n1436                   446.0   37617947.0   \n4434                  1000.0   17986000.0   \n4690                   108.0          NaN   \n4136                    16.0   76400000.0   \n4898                   462.0     180483.0   \n52                   16000.0  101785482.0   \n1613                 40000.0   52937130.0   \n65                   34000.0  154985087.0   \n590                   1000.0  219613391.0   \n\n                                     genres  ... num_user_for_reviews  \\\n2468                  Drama|Fantasy|Romance  ...                129.0   \n1436                   Drama|Family|Fantasy  ...                203.0   \n4434                                 Horror  ...                195.0   \n4690                        Horror|Thriller  ...                 52.0   \n4136         Animation|Family|Fantasy|Music  ...                230.0   \n4898                    Comedy|Crime|Horror  ...                183.0   \n52                  Action|Adventure|Sci-Fi  ...               1106.0   \n1613                  Biography|Crime|Drama  ...                426.0   \n65                  Action|Adventure|Sci-Fi  ...                622.0   \n590   Animation|Comedy|Family|Fantasy|Music  ...                 98.0   \n\n     language  country  content_rating       budget  title_year  \\\n2468  English      USA           PG-13   17000000.0      2011.0   \n1436  English      USA              PG   30000000.0      2006.0   \n4434  English      USA               R    1000000.0      1981.0   \n4690  English   Canada               R     500000.0      2005.0   \n4136  English      USA               G    2280000.0      1940.0   \n4898  English      USA           NC-17      10000.0      1972.0   \n52    English      USA           PG-13  190000000.0      2013.0   \n1613  English      USA               R   30000000.0      2001.0   \n65    English      USA           PG-13  178000000.0      2016.0   \n590   English      USA              PG   75000000.0      2009.0   \n\n     actor_2_facebook_likes imdb_score  aspect_ratio movie_facebook_likes  \n2468                  976.0        5.6          2.35                16000  \n1436                  224.0        6.8          2.35                    0  \n4434                  823.0        6.6          1.85                    0  \n4690                   64.0        6.1          1.85                  166  \n4136                    0.0        7.8          1.37                 3000  \n4898                  143.0        6.1          1.37                    0  \n52                    968.0        7.0          1.85                83000  \n1613                 1000.0        7.6          2.35                13000  \n65                  13000.0        7.3          2.35                54000  \n590                  1000.0        4.5          1.85                 2000  \n\n[10 rows x 28 columns]",
      "text/html": "<div>\n<style scoped>\n    .dataframe tbody tr th:only-of-type {\n        vertical-align: middle;\n    }\n\n    .dataframe tbody tr th {\n        vertical-align: top;\n    }\n\n    .dataframe thead th {\n        text-align: right;\n    }\n</style>\n<table border=\"1\" class=\"dataframe\">\n  <thead>\n    <tr style=\"text-align: right;\">\n      <th></th>\n      <th>color</th>\n      <th>director_name</th>\n      <th>num_critic_for_reviews</th>\n      <th>duration</th>\n      <th>director_facebook_likes</th>\n      <th>actor_3_facebook_likes</th>\n      <th>actor_2_name</th>\n      <th>actor_1_facebook_likes</th>\n      <th>gross</th>\n      <th>genres</th>\n      <th>...</th>\n      <th>num_user_for_reviews</th>\n      <th>language</th>\n      <th>country</th>\n      <th>content_rating</th>\n      <th>budget</th>\n      <th>title_year</th>\n      <th>actor_2_facebook_likes</th>\n      <th>imdb_score</th>\n      <th>aspect_ratio</th>\n      <th>movie_facebook_likes</th>\n    </tr>\n  </thead>\n  <tbody>\n    <tr>\n      <th>2468</th>\n      <td>Color</td>\n      <td>Daniel Barnz</td>\n      <td>148.0</td>\n      <td>86.0</td>\n      <td>33.0</td>\n      <td>583.0</td>\n      <td>Mary-Kate Olsen</td>\n      <td>15000.0</td>\n      <td>27854896.0</td>\n      <td>Drama|Fantasy|Romance</td>\n      <td>...</td>\n      <td>129.0</td>\n      <td>English</td>\n      <td>USA</td>\n      <td>PG-13</td>\n      <td>17000000.0</td>\n      <td>2011.0</td>\n      <td>976.0</td>\n      <td>5.6</td>\n      <td>2.35</td>\n      <td>16000</td>\n    </tr>\n    <tr>\n      <th>1436</th>\n      <td>Color</td>\n      <td>Catherine Hardwicke</td>\n      <td>122.0</td>\n      <td>101.0</td>\n      <td>308.0</td>\n      <td>206.0</td>\n      <td>Hiam Abbass</td>\n      <td>446.0</td>\n      <td>37617947.0</td>\n      <td>Drama|Family|Fantasy</td>\n      <td>...</td>\n      <td>203.0</td>\n      <td>English</td>\n      <td>USA</td>\n      <td>PG</td>\n      <td>30000000.0</td>\n      <td>2006.0</td>\n      <td>224.0</td>\n      <td>6.8</td>\n      <td>2.35</td>\n      <td>0</td>\n    </tr>\n    <tr>\n      <th>4434</th>\n      <td>Color</td>\n      <td>Joe Dante</td>\n      <td>161.0</td>\n      <td>91.0</td>\n      <td>287.0</td>\n      <td>725.0</td>\n      <td>Robert Picardo</td>\n      <td>1000.0</td>\n      <td>17986000.0</td>\n      <td>Horror</td>\n      <td>...</td>\n      <td>195.0</td>\n      <td>English</td>\n      <td>USA</td>\n      <td>R</td>\n      <td>1000000.0</td>\n      <td>1981.0</td>\n      <td>823.0</td>\n      <td>6.6</td>\n      <td>1.85</td>\n      <td>0</td>\n    </tr>\n    <tr>\n      <th>4690</th>\n      <td>Color</td>\n      <td>Paul Fox</td>\n      <td>80.0</td>\n      <td>80.0</td>\n      <td>3.0</td>\n      <td>39.0</td>\n      <td>Jeff Seymour</td>\n      <td>108.0</td>\n      <td>NaN</td>\n      <td>Horror|Thriller</td>\n      <td>...</td>\n      <td>52.0</td>\n      <td>English</td>\n      <td>Canada</td>\n      <td>R</td>\n      <td>500000.0</td>\n      <td>2005.0</td>\n      <td>64.0</td>\n      <td>6.1</td>\n      <td>1.85</td>\n      <td>166</td>\n    </tr>\n    <tr>\n      <th>4136</th>\n      <td>Color</td>\n      <td>James Algar</td>\n      <td>99.0</td>\n      <td>120.0</td>\n      <td>11.0</td>\n      <td>NaN</td>\n      <td>Deems Taylor</td>\n      <td>16.0</td>\n      <td>76400000.0</td>\n      <td>Animation|Family|Fantasy|Music</td>\n      <td>...</td>\n      <td>230.0</td>\n      <td>English</td>\n      <td>USA</td>\n      <td>G</td>\n      <td>2280000.0</td>\n      <td>1940.0</td>\n      <td>0.0</td>\n      <td>7.8</td>\n      <td>1.37</td>\n      <td>3000</td>\n    </tr>\n    <tr>\n      <th>4898</th>\n      <td>Color</td>\n      <td>John Waters</td>\n      <td>73.0</td>\n      <td>108.0</td>\n      <td>0.0</td>\n      <td>105.0</td>\n      <td>Mink Stole</td>\n      <td>462.0</td>\n      <td>180483.0</td>\n      <td>Comedy|Crime|Horror</td>\n      <td>...</td>\n      <td>183.0</td>\n      <td>English</td>\n      <td>USA</td>\n      <td>NC-17</td>\n      <td>10000.0</td>\n      <td>1972.0</td>\n      <td>143.0</td>\n      <td>6.1</td>\n      <td>1.37</td>\n      <td>0</td>\n    </tr>\n    <tr>\n      <th>52</th>\n      <td>Color</td>\n      <td>Guillermo del Toro</td>\n      <td>575.0</td>\n      <td>131.0</td>\n      <td>0.0</td>\n      <td>919.0</td>\n      <td>Clifton Collins Jr.</td>\n      <td>16000.0</td>\n      <td>101785482.0</td>\n      <td>Action|Adventure|Sci-Fi</td>\n      <td>...</td>\n      <td>1106.0</td>\n      <td>English</td>\n      <td>USA</td>\n      <td>PG-13</td>\n      <td>190000000.0</td>\n      <td>2013.0</td>\n      <td>968.0</td>\n      <td>7.0</td>\n      <td>1.85</td>\n      <td>83000</td>\n    </tr>\n    <tr>\n      <th>1613</th>\n      <td>Color</td>\n      <td>Ted Demme</td>\n      <td>147.0</td>\n      <td>124.0</td>\n      <td>47.0</td>\n      <td>877.0</td>\n      <td>Ethan Suplee</td>\n      <td>40000.0</td>\n      <td>52937130.0</td>\n      <td>Biography|Crime|Drama</td>\n      <td>...</td>\n      <td>426.0</td>\n      <td>English</td>\n      <td>USA</td>\n      <td>R</td>\n      <td>30000000.0</td>\n      <td>2001.0</td>\n      <td>1000.0</td>\n      <td>7.6</td>\n      <td>2.35</td>\n      <td>13000</td>\n    </tr>\n    <tr>\n      <th>65</th>\n      <td>Color</td>\n      <td>Bryan Singer</td>\n      <td>396.0</td>\n      <td>144.0</td>\n      <td>0.0</td>\n      <td>1000.0</td>\n      <td>Michael Fassbender</td>\n      <td>34000.0</td>\n      <td>154985087.0</td>\n      <td>Action|Adventure|Sci-Fi</td>\n      <td>...</td>\n      <td>622.0</td>\n      <td>English</td>\n      <td>USA</td>\n      <td>PG-13</td>\n      <td>178000000.0</td>\n      <td>2016.0</td>\n      <td>13000.0</td>\n      <td>7.3</td>\n      <td>2.35</td>\n      <td>54000</td>\n    </tr>\n    <tr>\n      <th>590</th>\n      <td>Color</td>\n      <td>Betty Thomas</td>\n      <td>107.0</td>\n      <td>88.0</td>\n      <td>84.0</td>\n      <td>1000.0</td>\n      <td>Bridgit Mendler</td>\n      <td>1000.0</td>\n      <td>219613391.0</td>\n      <td>Animation|Comedy|Family|Fantasy|Music</td>\n      <td>...</td>\n      <td>98.0</td>\n      <td>English</td>\n      <td>USA</td>\n      <td>PG</td>\n      <td>75000000.0</td>\n      <td>2009.0</td>\n      <td>1000.0</td>\n      <td>4.5</td>\n      <td>1.85</td>\n      <td>2000</td>\n    </tr>\n  </tbody>\n</table>\n<p>10 rows × 28 columns</p>\n</div>"
     },
     "metadata": {},
     "output_type": "display_data"
    }
   ],
   "source": [
    "read_csv(\"movie.csv\")\n"
   ],
   "metadata": {
    "collapsed": false,
    "ExecuteTime": {
     "end_time": "2025-03-31T18:31:02.518381Z",
     "start_time": "2025-03-31T18:31:02.312893Z"
    }
   },
   "id": "1d2bd5f4af8082e7",
   "execution_count": 47
  },
  {
   "cell_type": "code",
   "outputs": [],
   "source": [
    "def explore_iris(json_path):\n",
    "    df = pd.read_json(json_path)\n",
    "    df.columns = df.columns.str.lower()\n",
    "    iris_selected = df[['sepallength', 'sepalwidth']]\n",
    "    print(\"Filtered iris dataset:\")\n",
    "    display(iris_selected)"
   ],
   "metadata": {
    "collapsed": false,
    "ExecuteTime": {
     "end_time": "2025-03-31T18:31:02.532608Z",
     "start_time": "2025-03-31T18:31:02.525265Z"
    }
   },
   "id": "ef346faef522b266",
   "execution_count": 48
  },
  {
   "cell_type": "code",
   "outputs": [
    {
     "name": "stdout",
     "output_type": "stream",
     "text": [
      "Filtered iris dataset:\n"
     ]
    },
    {
     "data": {
      "text/plain": "     sepallength  sepalwidth\n0            5.1         3.5\n1            4.9         3.0\n2            4.7         3.2\n3            4.6         3.1\n4            5.0         3.6\n..           ...         ...\n145          6.7         3.0\n146          6.3         2.5\n147          6.5         3.0\n148          6.2         3.4\n149          5.9         3.0\n\n[150 rows x 2 columns]",
      "text/html": "<div>\n<style scoped>\n    .dataframe tbody tr th:only-of-type {\n        vertical-align: middle;\n    }\n\n    .dataframe tbody tr th {\n        vertical-align: top;\n    }\n\n    .dataframe thead th {\n        text-align: right;\n    }\n</style>\n<table border=\"1\" class=\"dataframe\">\n  <thead>\n    <tr style=\"text-align: right;\">\n      <th></th>\n      <th>sepallength</th>\n      <th>sepalwidth</th>\n    </tr>\n  </thead>\n  <tbody>\n    <tr>\n      <th>0</th>\n      <td>5.1</td>\n      <td>3.5</td>\n    </tr>\n    <tr>\n      <th>1</th>\n      <td>4.9</td>\n      <td>3.0</td>\n    </tr>\n    <tr>\n      <th>2</th>\n      <td>4.7</td>\n      <td>3.2</td>\n    </tr>\n    <tr>\n      <th>3</th>\n      <td>4.6</td>\n      <td>3.1</td>\n    </tr>\n    <tr>\n      <th>4</th>\n      <td>5.0</td>\n      <td>3.6</td>\n    </tr>\n    <tr>\n      <th>...</th>\n      <td>...</td>\n      <td>...</td>\n    </tr>\n    <tr>\n      <th>145</th>\n      <td>6.7</td>\n      <td>3.0</td>\n    </tr>\n    <tr>\n      <th>146</th>\n      <td>6.3</td>\n      <td>2.5</td>\n    </tr>\n    <tr>\n      <th>147</th>\n      <td>6.5</td>\n      <td>3.0</td>\n    </tr>\n    <tr>\n      <th>148</th>\n      <td>6.2</td>\n      <td>3.4</td>\n    </tr>\n    <tr>\n      <th>149</th>\n      <td>5.9</td>\n      <td>3.0</td>\n    </tr>\n  </tbody>\n</table>\n<p>150 rows × 2 columns</p>\n</div>"
     },
     "metadata": {},
     "output_type": "display_data"
    }
   ],
   "source": [
    "explore_iris(\"iris.json\")"
   ],
   "metadata": {
    "collapsed": false,
    "ExecuteTime": {
     "end_time": "2025-03-31T18:31:02.573263Z",
     "start_time": "2025-03-31T18:31:02.537302Z"
    }
   },
   "id": "af5f34b2696b83f7",
   "execution_count": 49
  },
  {
   "cell_type": "code",
   "outputs": [],
   "source": [
    "def explore_titanic(excel_path):\n",
    "    df = pd.read_excel(excel_path)\n",
    "    titanic_filtered = df[df['Age'] > 30]\n",
    "    print(\"Passengers older than 30:\")\n",
    "    display(titanic_filtered)\n",
    "    print(\"Passenger gender distribution:\")\n",
    "    display(df['Sex'].value_counts())"
   ],
   "metadata": {
    "collapsed": false,
    "ExecuteTime": {
     "end_time": "2025-03-31T18:31:02.589084Z",
     "start_time": "2025-03-31T18:31:02.577365Z"
    }
   },
   "id": "9c6efc79a3d406f3",
   "execution_count": 50
  },
  {
   "cell_type": "code",
   "outputs": [
    {
     "name": "stdout",
     "output_type": "stream",
     "text": [
      "Passengers older than 30:\n"
     ]
    },
    {
     "data": {
      "text/plain": "     PassengerId  Survived  Pclass  \\\n1              2         1       1   \n3              4         1       1   \n4              5         0       3   \n6              7         0       1   \n11            12         1       1   \n..           ...       ...     ...   \n873          874         0       3   \n879          880         1       1   \n881          882         0       3   \n885          886         0       3   \n890          891         0       3   \n\n                                                  Name     Sex   Age  SibSp  \\\n1    Cumings, Mrs. John Bradley (Florence Briggs Th...  female  38.0      1   \n3         Futrelle, Mrs. Jacques Heath (Lily May Peel)  female  35.0      1   \n4                             Allen, Mr. William Henry    male  35.0      0   \n6                              McCarthy, Mr. Timothy J    male  54.0      0   \n11                            Bonnell, Miss. Elizabeth  female  58.0      0   \n..                                                 ...     ...   ...    ...   \n873                        Vander Cruyssen, Mr. Victor    male  47.0      0   \n879      Potter, Mrs. Thomas Jr (Lily Alexenia Wilson)  female  56.0      0   \n881                                 Markun, Mr. Johann    male  33.0      0   \n885               Rice, Mrs. William (Margaret Norton)  female  39.0      0   \n890                                Dooley, Mr. Patrick    male  32.0      0   \n\n     Parch    Ticket     Fare Cabin Embarked  \n1        0  PC 17599  71.2833   C85        C  \n3        0    113803  53.1000  C123        S  \n4        0    373450   8.0500   NaN        S  \n6        0     17463  51.8625   E46        S  \n11       0    113783  26.5500  C103        S  \n..     ...       ...      ...   ...      ...  \n873      0    345765   9.0000   NaN        S  \n879      1     11767  83.1583   C50        C  \n881      0    349257   7.8958   NaN        S  \n885      5    382652  29.1250   NaN        Q  \n890      0    370376   7.7500   NaN        Q  \n\n[305 rows x 12 columns]",
      "text/html": "<div>\n<style scoped>\n    .dataframe tbody tr th:only-of-type {\n        vertical-align: middle;\n    }\n\n    .dataframe tbody tr th {\n        vertical-align: top;\n    }\n\n    .dataframe thead th {\n        text-align: right;\n    }\n</style>\n<table border=\"1\" class=\"dataframe\">\n  <thead>\n    <tr style=\"text-align: right;\">\n      <th></th>\n      <th>PassengerId</th>\n      <th>Survived</th>\n      <th>Pclass</th>\n      <th>Name</th>\n      <th>Sex</th>\n      <th>Age</th>\n      <th>SibSp</th>\n      <th>Parch</th>\n      <th>Ticket</th>\n      <th>Fare</th>\n      <th>Cabin</th>\n      <th>Embarked</th>\n    </tr>\n  </thead>\n  <tbody>\n    <tr>\n      <th>1</th>\n      <td>2</td>\n      <td>1</td>\n      <td>1</td>\n      <td>Cumings, Mrs. John Bradley (Florence Briggs Th...</td>\n      <td>female</td>\n      <td>38.0</td>\n      <td>1</td>\n      <td>0</td>\n      <td>PC 17599</td>\n      <td>71.2833</td>\n      <td>C85</td>\n      <td>C</td>\n    </tr>\n    <tr>\n      <th>3</th>\n      <td>4</td>\n      <td>1</td>\n      <td>1</td>\n      <td>Futrelle, Mrs. Jacques Heath (Lily May Peel)</td>\n      <td>female</td>\n      <td>35.0</td>\n      <td>1</td>\n      <td>0</td>\n      <td>113803</td>\n      <td>53.1000</td>\n      <td>C123</td>\n      <td>S</td>\n    </tr>\n    <tr>\n      <th>4</th>\n      <td>5</td>\n      <td>0</td>\n      <td>3</td>\n      <td>Allen, Mr. William Henry</td>\n      <td>male</td>\n      <td>35.0</td>\n      <td>0</td>\n      <td>0</td>\n      <td>373450</td>\n      <td>8.0500</td>\n      <td>NaN</td>\n      <td>S</td>\n    </tr>\n    <tr>\n      <th>6</th>\n      <td>7</td>\n      <td>0</td>\n      <td>1</td>\n      <td>McCarthy, Mr. Timothy J</td>\n      <td>male</td>\n      <td>54.0</td>\n      <td>0</td>\n      <td>0</td>\n      <td>17463</td>\n      <td>51.8625</td>\n      <td>E46</td>\n      <td>S</td>\n    </tr>\n    <tr>\n      <th>11</th>\n      <td>12</td>\n      <td>1</td>\n      <td>1</td>\n      <td>Bonnell, Miss. Elizabeth</td>\n      <td>female</td>\n      <td>58.0</td>\n      <td>0</td>\n      <td>0</td>\n      <td>113783</td>\n      <td>26.5500</td>\n      <td>C103</td>\n      <td>S</td>\n    </tr>\n    <tr>\n      <th>...</th>\n      <td>...</td>\n      <td>...</td>\n      <td>...</td>\n      <td>...</td>\n      <td>...</td>\n      <td>...</td>\n      <td>...</td>\n      <td>...</td>\n      <td>...</td>\n      <td>...</td>\n      <td>...</td>\n      <td>...</td>\n    </tr>\n    <tr>\n      <th>873</th>\n      <td>874</td>\n      <td>0</td>\n      <td>3</td>\n      <td>Vander Cruyssen, Mr. Victor</td>\n      <td>male</td>\n      <td>47.0</td>\n      <td>0</td>\n      <td>0</td>\n      <td>345765</td>\n      <td>9.0000</td>\n      <td>NaN</td>\n      <td>S</td>\n    </tr>\n    <tr>\n      <th>879</th>\n      <td>880</td>\n      <td>1</td>\n      <td>1</td>\n      <td>Potter, Mrs. Thomas Jr (Lily Alexenia Wilson)</td>\n      <td>female</td>\n      <td>56.0</td>\n      <td>0</td>\n      <td>1</td>\n      <td>11767</td>\n      <td>83.1583</td>\n      <td>C50</td>\n      <td>C</td>\n    </tr>\n    <tr>\n      <th>881</th>\n      <td>882</td>\n      <td>0</td>\n      <td>3</td>\n      <td>Markun, Mr. Johann</td>\n      <td>male</td>\n      <td>33.0</td>\n      <td>0</td>\n      <td>0</td>\n      <td>349257</td>\n      <td>7.8958</td>\n      <td>NaN</td>\n      <td>S</td>\n    </tr>\n    <tr>\n      <th>885</th>\n      <td>886</td>\n      <td>0</td>\n      <td>3</td>\n      <td>Rice, Mrs. William (Margaret Norton)</td>\n      <td>female</td>\n      <td>39.0</td>\n      <td>0</td>\n      <td>5</td>\n      <td>382652</td>\n      <td>29.1250</td>\n      <td>NaN</td>\n      <td>Q</td>\n    </tr>\n    <tr>\n      <th>890</th>\n      <td>891</td>\n      <td>0</td>\n      <td>3</td>\n      <td>Dooley, Mr. Patrick</td>\n      <td>male</td>\n      <td>32.0</td>\n      <td>0</td>\n      <td>0</td>\n      <td>370376</td>\n      <td>7.7500</td>\n      <td>NaN</td>\n      <td>Q</td>\n    </tr>\n  </tbody>\n</table>\n<p>305 rows × 12 columns</p>\n</div>"
     },
     "metadata": {},
     "output_type": "display_data"
    },
    {
     "name": "stdout",
     "output_type": "stream",
     "text": [
      "Passenger gender distribution:\n"
     ]
    },
    {
     "data": {
      "text/plain": "Sex\nmale      577\nfemale    314\nName: count, dtype: int64"
     },
     "metadata": {},
     "output_type": "display_data"
    }
   ],
   "source": [
    "explore_titanic(\"titanic.xlsx\")"
   ],
   "metadata": {
    "collapsed": false,
    "ExecuteTime": {
     "end_time": "2025-03-31T18:31:02.987047Z",
     "start_time": "2025-03-31T18:31:02.594516Z"
    }
   },
   "id": "f98442294642b35a",
   "execution_count": 51
  },
  {
   "cell_type": "code",
   "outputs": [],
   "source": [
    "def explore_flights(parquet_path):\n",
    "    df = pd.read_parquet(parquet_path)\n",
    "    flights_selected = df[['origin', 'dest', 'carrier']]\n",
    "    print(\"Selected flight details:\")\n",
    "    display(flights_selected)\n",
    "    unique_destinations = df['dest'].nunique()\n",
    "    print(f\"Number of unique destinations: {unique_destinations}\")"
   ],
   "metadata": {
    "collapsed": false,
    "ExecuteTime": {
     "end_time": "2025-03-31T18:31:03.005374Z",
     "start_time": "2025-03-31T18:31:02.991194Z"
    }
   },
   "id": "bf279c365b64870e",
   "execution_count": 52
  },
  {
   "cell_type": "code",
   "outputs": [],
   "source": [
    "def explore_movies(csv_path):\n",
    "    df = pd.read_csv(csv_path)\n",
    "    long_movies = df[df['duration'] > 120]\n",
    "    sorted_movies = long_movies.sort_values(by='director_facebook_likes', ascending=False)\n",
    "    print(\"Movies longer than 120 minutes, sorted by director_facebook_likes:\")\n",
    "    display(sorted_movies)"
   ],
   "metadata": {
    "collapsed": false,
    "ExecuteTime": {
     "end_time": "2025-03-31T18:31:03.024903Z",
     "start_time": "2025-03-31T18:31:03.010619Z"
    }
   },
   "id": "f194c7cfc0df78e9",
   "execution_count": 53
  },
  {
   "cell_type": "code",
   "outputs": [
    {
     "name": "stdout",
     "output_type": "stream",
     "text": [
      "Movies longer than 120 minutes, sorted by director_facebook_likes:\n"
     ]
    },
    {
     "data": {
      "text/plain": "      color      director_name  num_critic_for_reviews  duration  \\\n96    Color  Christopher Nolan                   712.0     169.0   \n97    Color  Christopher Nolan                   642.0     148.0   \n3     Color  Christopher Nolan                   813.0     164.0   \n66    Color  Christopher Nolan                   645.0     152.0   \n1222  Color  Christopher Nolan                   341.0     130.0   \n...     ...                ...                     ...       ...   \n3357  Color                NaN                     9.0     142.0   \n3582  Color                NaN                    10.0     240.0   \n3799  Color                NaN                     2.0     199.0   \n4005  Color                NaN                     NaN     197.0   \n4031  Color                NaN                    10.0     173.0   \n\n      director_facebook_likes  actor_3_facebook_likes      actor_2_name  \\\n96                    22000.0                  6000.0     Anne Hathaway   \n97                    22000.0                 23000.0         Tom Hardy   \n3                     22000.0                 23000.0    Christian Bale   \n66                    22000.0                 11000.0      Heath Ledger   \n1222                  22000.0                 19000.0      Hugh Jackman   \n...                       ...                     ...               ...   \n3357                      NaN                   427.0    Jack O'Connell   \n3582                      NaN                   334.0      Blake Ritson   \n3799                      NaN                   505.0  Jonathan Crombie   \n4005                      NaN                   110.0   Jessica De Gouw   \n4031                      NaN                   476.0        Colm Feore   \n\n      actor_1_facebook_likes        gross                            genres  \\\n96                   11000.0  187991439.0            Adventure|Drama|Sci-Fi   \n97                   29000.0  292568851.0  Action|Adventure|Sci-Fi|Thriller   \n3                    27000.0  448130642.0                   Action|Thriller   \n66                   23000.0  533316061.0       Action|Crime|Drama|Thriller   \n1222                 23000.0   53082743.0     Drama|Mystery|Sci-Fi|Thriller   \n...                      ...          ...                               ...   \n3357                 27000.0          NaN                     Drama|Romance   \n3582                   805.0          NaN              Comedy|Drama|Romance   \n3799                   662.0          NaN                      Drama|Family   \n4005                   578.0          NaN                         Drama|War   \n4031                   723.0          NaN            Horror|Sci-Fi|Thriller   \n\n      ... num_user_for_reviews language    country  content_rating  \\\n96    ...               2725.0  English        USA           PG-13   \n97    ...               2803.0  English        USA           PG-13   \n3     ...               2701.0  English        USA           PG-13   \n66    ...               4667.0  English        USA           PG-13   \n1222  ...               1100.0  English        USA           PG-13   \n...   ...                  ...      ...        ...             ...   \n3357  ...                 33.0  English         UK             NaN   \n3582  ...                 50.0  English         UK             NaN   \n3799  ...                 74.0  English     Canada            TV-G   \n4005  ...                  1.0  English  Australia             NaN   \n4031  ...                 33.0  English        USA             NaN   \n\n           budget  title_year actor_2_facebook_likes imdb_score  aspect_ratio  \\\n96    165000000.0      2014.0                11000.0        8.6          2.35   \n97    160000000.0      2010.0                27000.0        8.8          2.35   \n3     250000000.0      2012.0                23000.0        8.5          2.35   \n66    185000000.0      2008.0                13000.0        9.0          2.35   \n1222   40000000.0      2006.0                20000.0        8.5          2.35   \n...           ...         ...                    ...        ...           ...   \n3357          NaN         NaN                  698.0        7.7           NaN   \n3582          NaN         NaN                  432.0        8.2          1.78   \n3799          NaN         NaN                  517.0        8.4          1.33   \n4005   15000000.0         NaN                  476.0        7.4           NaN   \n4031          NaN         NaN                  539.0        5.0          1.78   \n\n     movie_facebook_likes  \n96                 349000  \n97                 175000  \n3                  164000  \n66                  37000  \n1222                49000  \n...                   ...  \n3357                    0  \n3582                    0  \n3799                    0  \n4005                  367  \n4031                  518  \n\n[1039 rows x 28 columns]",
      "text/html": "<div>\n<style scoped>\n    .dataframe tbody tr th:only-of-type {\n        vertical-align: middle;\n    }\n\n    .dataframe tbody tr th {\n        vertical-align: top;\n    }\n\n    .dataframe thead th {\n        text-align: right;\n    }\n</style>\n<table border=\"1\" class=\"dataframe\">\n  <thead>\n    <tr style=\"text-align: right;\">\n      <th></th>\n      <th>color</th>\n      <th>director_name</th>\n      <th>num_critic_for_reviews</th>\n      <th>duration</th>\n      <th>director_facebook_likes</th>\n      <th>actor_3_facebook_likes</th>\n      <th>actor_2_name</th>\n      <th>actor_1_facebook_likes</th>\n      <th>gross</th>\n      <th>genres</th>\n      <th>...</th>\n      <th>num_user_for_reviews</th>\n      <th>language</th>\n      <th>country</th>\n      <th>content_rating</th>\n      <th>budget</th>\n      <th>title_year</th>\n      <th>actor_2_facebook_likes</th>\n      <th>imdb_score</th>\n      <th>aspect_ratio</th>\n      <th>movie_facebook_likes</th>\n    </tr>\n  </thead>\n  <tbody>\n    <tr>\n      <th>96</th>\n      <td>Color</td>\n      <td>Christopher Nolan</td>\n      <td>712.0</td>\n      <td>169.0</td>\n      <td>22000.0</td>\n      <td>6000.0</td>\n      <td>Anne Hathaway</td>\n      <td>11000.0</td>\n      <td>187991439.0</td>\n      <td>Adventure|Drama|Sci-Fi</td>\n      <td>...</td>\n      <td>2725.0</td>\n      <td>English</td>\n      <td>USA</td>\n      <td>PG-13</td>\n      <td>165000000.0</td>\n      <td>2014.0</td>\n      <td>11000.0</td>\n      <td>8.6</td>\n      <td>2.35</td>\n      <td>349000</td>\n    </tr>\n    <tr>\n      <th>97</th>\n      <td>Color</td>\n      <td>Christopher Nolan</td>\n      <td>642.0</td>\n      <td>148.0</td>\n      <td>22000.0</td>\n      <td>23000.0</td>\n      <td>Tom Hardy</td>\n      <td>29000.0</td>\n      <td>292568851.0</td>\n      <td>Action|Adventure|Sci-Fi|Thriller</td>\n      <td>...</td>\n      <td>2803.0</td>\n      <td>English</td>\n      <td>USA</td>\n      <td>PG-13</td>\n      <td>160000000.0</td>\n      <td>2010.0</td>\n      <td>27000.0</td>\n      <td>8.8</td>\n      <td>2.35</td>\n      <td>175000</td>\n    </tr>\n    <tr>\n      <th>3</th>\n      <td>Color</td>\n      <td>Christopher Nolan</td>\n      <td>813.0</td>\n      <td>164.0</td>\n      <td>22000.0</td>\n      <td>23000.0</td>\n      <td>Christian Bale</td>\n      <td>27000.0</td>\n      <td>448130642.0</td>\n      <td>Action|Thriller</td>\n      <td>...</td>\n      <td>2701.0</td>\n      <td>English</td>\n      <td>USA</td>\n      <td>PG-13</td>\n      <td>250000000.0</td>\n      <td>2012.0</td>\n      <td>23000.0</td>\n      <td>8.5</td>\n      <td>2.35</td>\n      <td>164000</td>\n    </tr>\n    <tr>\n      <th>66</th>\n      <td>Color</td>\n      <td>Christopher Nolan</td>\n      <td>645.0</td>\n      <td>152.0</td>\n      <td>22000.0</td>\n      <td>11000.0</td>\n      <td>Heath Ledger</td>\n      <td>23000.0</td>\n      <td>533316061.0</td>\n      <td>Action|Crime|Drama|Thriller</td>\n      <td>...</td>\n      <td>4667.0</td>\n      <td>English</td>\n      <td>USA</td>\n      <td>PG-13</td>\n      <td>185000000.0</td>\n      <td>2008.0</td>\n      <td>13000.0</td>\n      <td>9.0</td>\n      <td>2.35</td>\n      <td>37000</td>\n    </tr>\n    <tr>\n      <th>1222</th>\n      <td>Color</td>\n      <td>Christopher Nolan</td>\n      <td>341.0</td>\n      <td>130.0</td>\n      <td>22000.0</td>\n      <td>19000.0</td>\n      <td>Hugh Jackman</td>\n      <td>23000.0</td>\n      <td>53082743.0</td>\n      <td>Drama|Mystery|Sci-Fi|Thriller</td>\n      <td>...</td>\n      <td>1100.0</td>\n      <td>English</td>\n      <td>USA</td>\n      <td>PG-13</td>\n      <td>40000000.0</td>\n      <td>2006.0</td>\n      <td>20000.0</td>\n      <td>8.5</td>\n      <td>2.35</td>\n      <td>49000</td>\n    </tr>\n    <tr>\n      <th>...</th>\n      <td>...</td>\n      <td>...</td>\n      <td>...</td>\n      <td>...</td>\n      <td>...</td>\n      <td>...</td>\n      <td>...</td>\n      <td>...</td>\n      <td>...</td>\n      <td>...</td>\n      <td>...</td>\n      <td>...</td>\n      <td>...</td>\n      <td>...</td>\n      <td>...</td>\n      <td>...</td>\n      <td>...</td>\n      <td>...</td>\n      <td>...</td>\n      <td>...</td>\n      <td>...</td>\n    </tr>\n    <tr>\n      <th>3357</th>\n      <td>Color</td>\n      <td>NaN</td>\n      <td>9.0</td>\n      <td>142.0</td>\n      <td>NaN</td>\n      <td>427.0</td>\n      <td>Jack O'Connell</td>\n      <td>27000.0</td>\n      <td>NaN</td>\n      <td>Drama|Romance</td>\n      <td>...</td>\n      <td>33.0</td>\n      <td>English</td>\n      <td>UK</td>\n      <td>NaN</td>\n      <td>NaN</td>\n      <td>NaN</td>\n      <td>698.0</td>\n      <td>7.7</td>\n      <td>NaN</td>\n      <td>0</td>\n    </tr>\n    <tr>\n      <th>3582</th>\n      <td>Color</td>\n      <td>NaN</td>\n      <td>10.0</td>\n      <td>240.0</td>\n      <td>NaN</td>\n      <td>334.0</td>\n      <td>Blake Ritson</td>\n      <td>805.0</td>\n      <td>NaN</td>\n      <td>Comedy|Drama|Romance</td>\n      <td>...</td>\n      <td>50.0</td>\n      <td>English</td>\n      <td>UK</td>\n      <td>NaN</td>\n      <td>NaN</td>\n      <td>NaN</td>\n      <td>432.0</td>\n      <td>8.2</td>\n      <td>1.78</td>\n      <td>0</td>\n    </tr>\n    <tr>\n      <th>3799</th>\n      <td>Color</td>\n      <td>NaN</td>\n      <td>2.0</td>\n      <td>199.0</td>\n      <td>NaN</td>\n      <td>505.0</td>\n      <td>Jonathan Crombie</td>\n      <td>662.0</td>\n      <td>NaN</td>\n      <td>Drama|Family</td>\n      <td>...</td>\n      <td>74.0</td>\n      <td>English</td>\n      <td>Canada</td>\n      <td>TV-G</td>\n      <td>NaN</td>\n      <td>NaN</td>\n      <td>517.0</td>\n      <td>8.4</td>\n      <td>1.33</td>\n      <td>0</td>\n    </tr>\n    <tr>\n      <th>4005</th>\n      <td>Color</td>\n      <td>NaN</td>\n      <td>NaN</td>\n      <td>197.0</td>\n      <td>NaN</td>\n      <td>110.0</td>\n      <td>Jessica De Gouw</td>\n      <td>578.0</td>\n      <td>NaN</td>\n      <td>Drama|War</td>\n      <td>...</td>\n      <td>1.0</td>\n      <td>English</td>\n      <td>Australia</td>\n      <td>NaN</td>\n      <td>15000000.0</td>\n      <td>NaN</td>\n      <td>476.0</td>\n      <td>7.4</td>\n      <td>NaN</td>\n      <td>367</td>\n    </tr>\n    <tr>\n      <th>4031</th>\n      <td>Color</td>\n      <td>NaN</td>\n      <td>10.0</td>\n      <td>173.0</td>\n      <td>NaN</td>\n      <td>476.0</td>\n      <td>Colm Feore</td>\n      <td>723.0</td>\n      <td>NaN</td>\n      <td>Horror|Sci-Fi|Thriller</td>\n      <td>...</td>\n      <td>33.0</td>\n      <td>English</td>\n      <td>USA</td>\n      <td>NaN</td>\n      <td>NaN</td>\n      <td>NaN</td>\n      <td>539.0</td>\n      <td>5.0</td>\n      <td>1.78</td>\n      <td>518</td>\n    </tr>\n  </tbody>\n</table>\n<p>1039 rows × 28 columns</p>\n</div>"
     },
     "metadata": {},
     "output_type": "display_data"
    }
   ],
   "source": [
    "explore_movies(\"movie.csv\")"
   ],
   "metadata": {
    "collapsed": false,
    "ExecuteTime": {
     "end_time": "2025-03-31T18:31:03.302345Z",
     "start_time": "2025-03-31T18:31:03.029487Z"
    }
   },
   "id": "80882422261804a6",
   "execution_count": 54
  },
  {
   "cell_type": "code",
   "outputs": [],
   "source": [
    "def analyze_iris(json_path):\n",
    "    df = pd.read_json(json_path)\n",
    "    print(\"Iris Dataset Statistics:\")\n",
    "    display(df.describe())\n",
    "    print(\"Median Values:\")\n",
    "    display(df.median())\n",
    "    print(\"Standard Deviation:\")\n",
    "    display(df.std())"
   ],
   "metadata": {
    "collapsed": false,
    "ExecuteTime": {
     "end_time": "2025-03-31T18:31:03.331910Z",
     "start_time": "2025-03-31T18:31:03.311868Z"
    }
   },
   "id": "c7fc429d50e728a1",
   "execution_count": 55
  },
  {
   "cell_type": "code",
   "outputs": [
    {
     "name": "stdout",
     "output_type": "stream",
     "text": [
      "Iris Dataset Statistics:\n"
     ]
    },
    {
     "data": {
      "text/plain": "       sepalLength  sepalWidth  petalLength  petalWidth\ncount   150.000000  150.000000   150.000000  150.000000\nmean      5.843333    3.057333     3.758000    1.199333\nstd       0.828066    0.435866     1.765298    0.762238\nmin       4.300000    2.000000     1.000000    0.100000\n25%       5.100000    2.800000     1.600000    0.300000\n50%       5.800000    3.000000     4.350000    1.300000\n75%       6.400000    3.300000     5.100000    1.800000\nmax       7.900000    4.400000     6.900000    2.500000",
      "text/html": "<div>\n<style scoped>\n    .dataframe tbody tr th:only-of-type {\n        vertical-align: middle;\n    }\n\n    .dataframe tbody tr th {\n        vertical-align: top;\n    }\n\n    .dataframe thead th {\n        text-align: right;\n    }\n</style>\n<table border=\"1\" class=\"dataframe\">\n  <thead>\n    <tr style=\"text-align: right;\">\n      <th></th>\n      <th>sepalLength</th>\n      <th>sepalWidth</th>\n      <th>petalLength</th>\n      <th>petalWidth</th>\n    </tr>\n  </thead>\n  <tbody>\n    <tr>\n      <th>count</th>\n      <td>150.000000</td>\n      <td>150.000000</td>\n      <td>150.000000</td>\n      <td>150.000000</td>\n    </tr>\n    <tr>\n      <th>mean</th>\n      <td>5.843333</td>\n      <td>3.057333</td>\n      <td>3.758000</td>\n      <td>1.199333</td>\n    </tr>\n    <tr>\n      <th>std</th>\n      <td>0.828066</td>\n      <td>0.435866</td>\n      <td>1.765298</td>\n      <td>0.762238</td>\n    </tr>\n    <tr>\n      <th>min</th>\n      <td>4.300000</td>\n      <td>2.000000</td>\n      <td>1.000000</td>\n      <td>0.100000</td>\n    </tr>\n    <tr>\n      <th>25%</th>\n      <td>5.100000</td>\n      <td>2.800000</td>\n      <td>1.600000</td>\n      <td>0.300000</td>\n    </tr>\n    <tr>\n      <th>50%</th>\n      <td>5.800000</td>\n      <td>3.000000</td>\n      <td>4.350000</td>\n      <td>1.300000</td>\n    </tr>\n    <tr>\n      <th>75%</th>\n      <td>6.400000</td>\n      <td>3.300000</td>\n      <td>5.100000</td>\n      <td>1.800000</td>\n    </tr>\n    <tr>\n      <th>max</th>\n      <td>7.900000</td>\n      <td>4.400000</td>\n      <td>6.900000</td>\n      <td>2.500000</td>\n    </tr>\n  </tbody>\n</table>\n</div>"
     },
     "metadata": {},
     "output_type": "display_data"
    },
    {
     "name": "stdout",
     "output_type": "stream",
     "text": [
      "Median Values:\n"
     ]
    },
    {
     "ename": "TypeError",
     "evalue": "Cannot convert [['setosa' 'setosa' 'setosa' 'setosa' 'setosa' 'setosa' 'setosa' 'setosa'\n  'setosa' 'setosa' 'setosa' 'setosa' 'setosa' 'setosa' 'setosa' 'setosa'\n  'setosa' 'setosa' 'setosa' 'setosa' 'setosa' 'setosa' 'setosa' 'setosa'\n  'setosa' 'setosa' 'setosa' 'setosa' 'setosa' 'setosa' 'setosa' 'setosa'\n  'setosa' 'setosa' 'setosa' 'setosa' 'setosa' 'setosa' 'setosa' 'setosa'\n  'setosa' 'setosa' 'setosa' 'setosa' 'setosa' 'setosa' 'setosa' 'setosa'\n  'setosa' 'setosa' 'versicolor' 'versicolor' 'versicolor' 'versicolor'\n  'versicolor' 'versicolor' 'versicolor' 'versicolor' 'versicolor'\n  'versicolor' 'versicolor' 'versicolor' 'versicolor' 'versicolor'\n  'versicolor' 'versicolor' 'versicolor' 'versicolor' 'versicolor'\n  'versicolor' 'versicolor' 'versicolor' 'versicolor' 'versicolor'\n  'versicolor' 'versicolor' 'versicolor' 'versicolor' 'versicolor'\n  'versicolor' 'versicolor' 'versicolor' 'versicolor' 'versicolor'\n  'versicolor' 'versicolor' 'versicolor' 'versicolor' 'versicolor'\n  'versicolor' 'versicolor' 'versicolor' 'versicolor' 'versicolor'\n  'versicolor' 'versicolor' 'versicolor' 'versicolor' 'versicolor'\n  'versicolor' 'virginica' 'virginica' 'virginica' 'virginica'\n  'virginica' 'virginica' 'virginica' 'virginica' 'virginica' 'virginica'\n  'virginica' 'virginica' 'virginica' 'virginica' 'virginica' 'virginica'\n  'virginica' 'virginica' 'virginica' 'virginica' 'virginica' 'virginica'\n  'virginica' 'virginica' 'virginica' 'virginica' 'virginica' 'virginica'\n  'virginica' 'virginica' 'virginica' 'virginica' 'virginica' 'virginica'\n  'virginica' 'virginica' 'virginica' 'virginica' 'virginica' 'virginica'\n  'virginica' 'virginica' 'virginica' 'virginica' 'virginica' 'virginica'\n  'virginica' 'virginica' 'virginica' 'virginica']] to numeric",
     "output_type": "error",
     "traceback": [
      "\u001B[1;31m---------------------------------------------------------------------------\u001B[0m",
      "\u001B[1;31mTypeError\u001B[0m                                 Traceback (most recent call last)",
      "Cell \u001B[1;32mIn[56], line 1\u001B[0m\n\u001B[1;32m----> 1\u001B[0m \u001B[43manalyze_iris\u001B[49m\u001B[43m(\u001B[49m\u001B[38;5;124;43m\"\u001B[39;49m\u001B[38;5;124;43miris.json\u001B[39;49m\u001B[38;5;124;43m\"\u001B[39;49m\u001B[43m)\u001B[49m\n",
      "Cell \u001B[1;32mIn[55], line 6\u001B[0m, in \u001B[0;36manalyze_iris\u001B[1;34m(json_path)\u001B[0m\n\u001B[0;32m      4\u001B[0m display(df\u001B[38;5;241m.\u001B[39mdescribe())\n\u001B[0;32m      5\u001B[0m \u001B[38;5;28mprint\u001B[39m(\u001B[38;5;124m\"\u001B[39m\u001B[38;5;124mMedian Values:\u001B[39m\u001B[38;5;124m\"\u001B[39m)\n\u001B[1;32m----> 6\u001B[0m display(\u001B[43mdf\u001B[49m\u001B[38;5;241;43m.\u001B[39;49m\u001B[43mmedian\u001B[49m\u001B[43m(\u001B[49m\u001B[43m)\u001B[49m)\n\u001B[0;32m      7\u001B[0m \u001B[38;5;28mprint\u001B[39m(\u001B[38;5;124m\"\u001B[39m\u001B[38;5;124mStandard Deviation:\u001B[39m\u001B[38;5;124m\"\u001B[39m)\n\u001B[0;32m      8\u001B[0m display(df\u001B[38;5;241m.\u001B[39mstd())\n",
      "File \u001B[1;32m~\\AppData\\Local\\Programs\\Python\\Python312\\Lib\\site-packages\\pandas\\core\\frame.py:11706\u001B[0m, in \u001B[0;36mDataFrame.median\u001B[1;34m(self, axis, skipna, numeric_only, **kwargs)\u001B[0m\n\u001B[0;32m  11698\u001B[0m \u001B[38;5;129m@doc\u001B[39m(make_doc(\u001B[38;5;124m\"\u001B[39m\u001B[38;5;124mmedian\u001B[39m\u001B[38;5;124m\"\u001B[39m, ndim\u001B[38;5;241m=\u001B[39m\u001B[38;5;241m2\u001B[39m))\n\u001B[0;32m  11699\u001B[0m \u001B[38;5;28;01mdef\u001B[39;00m \u001B[38;5;21mmedian\u001B[39m(\n\u001B[0;32m  11700\u001B[0m     \u001B[38;5;28mself\u001B[39m,\n\u001B[1;32m   (...)\u001B[0m\n\u001B[0;32m  11704\u001B[0m     \u001B[38;5;241m*\u001B[39m\u001B[38;5;241m*\u001B[39mkwargs,\n\u001B[0;32m  11705\u001B[0m ):\n\u001B[1;32m> 11706\u001B[0m     result \u001B[38;5;241m=\u001B[39m \u001B[38;5;28;43msuper\u001B[39;49m\u001B[43m(\u001B[49m\u001B[43m)\u001B[49m\u001B[38;5;241;43m.\u001B[39;49m\u001B[43mmedian\u001B[49m\u001B[43m(\u001B[49m\u001B[43maxis\u001B[49m\u001B[43m,\u001B[49m\u001B[43m \u001B[49m\u001B[43mskipna\u001B[49m\u001B[43m,\u001B[49m\u001B[43m \u001B[49m\u001B[43mnumeric_only\u001B[49m\u001B[43m,\u001B[49m\u001B[43m \u001B[49m\u001B[38;5;241;43m*\u001B[39;49m\u001B[38;5;241;43m*\u001B[39;49m\u001B[43mkwargs\u001B[49m\u001B[43m)\u001B[49m\n\u001B[0;32m  11707\u001B[0m     \u001B[38;5;28;01mif\u001B[39;00m \u001B[38;5;28misinstance\u001B[39m(result, Series):\n\u001B[0;32m  11708\u001B[0m         result \u001B[38;5;241m=\u001B[39m result\u001B[38;5;241m.\u001B[39m__finalize__(\u001B[38;5;28mself\u001B[39m, method\u001B[38;5;241m=\u001B[39m\u001B[38;5;124m\"\u001B[39m\u001B[38;5;124mmedian\u001B[39m\u001B[38;5;124m\"\u001B[39m)\n",
      "File \u001B[1;32m~\\AppData\\Local\\Programs\\Python\\Python312\\Lib\\site-packages\\pandas\\core\\generic.py:12431\u001B[0m, in \u001B[0;36mNDFrame.median\u001B[1;34m(self, axis, skipna, numeric_only, **kwargs)\u001B[0m\n\u001B[0;32m  12424\u001B[0m \u001B[38;5;28;01mdef\u001B[39;00m \u001B[38;5;21mmedian\u001B[39m(\n\u001B[0;32m  12425\u001B[0m     \u001B[38;5;28mself\u001B[39m,\n\u001B[0;32m  12426\u001B[0m     axis: Axis \u001B[38;5;241m|\u001B[39m \u001B[38;5;28;01mNone\u001B[39;00m \u001B[38;5;241m=\u001B[39m \u001B[38;5;241m0\u001B[39m,\n\u001B[1;32m   (...)\u001B[0m\n\u001B[0;32m  12429\u001B[0m     \u001B[38;5;241m*\u001B[39m\u001B[38;5;241m*\u001B[39mkwargs,\n\u001B[0;32m  12430\u001B[0m ) \u001B[38;5;241m-\u001B[39m\u001B[38;5;241m>\u001B[39m Series \u001B[38;5;241m|\u001B[39m \u001B[38;5;28mfloat\u001B[39m:\n\u001B[1;32m> 12431\u001B[0m     \u001B[38;5;28;01mreturn\u001B[39;00m \u001B[38;5;28;43mself\u001B[39;49m\u001B[38;5;241;43m.\u001B[39;49m\u001B[43m_stat_function\u001B[49m\u001B[43m(\u001B[49m\n\u001B[0;32m  12432\u001B[0m \u001B[43m        \u001B[49m\u001B[38;5;124;43m\"\u001B[39;49m\u001B[38;5;124;43mmedian\u001B[39;49m\u001B[38;5;124;43m\"\u001B[39;49m\u001B[43m,\u001B[49m\u001B[43m \u001B[49m\u001B[43mnanops\u001B[49m\u001B[38;5;241;43m.\u001B[39;49m\u001B[43mnanmedian\u001B[49m\u001B[43m,\u001B[49m\u001B[43m \u001B[49m\u001B[43maxis\u001B[49m\u001B[43m,\u001B[49m\u001B[43m \u001B[49m\u001B[43mskipna\u001B[49m\u001B[43m,\u001B[49m\u001B[43m \u001B[49m\u001B[43mnumeric_only\u001B[49m\u001B[43m,\u001B[49m\u001B[43m \u001B[49m\u001B[38;5;241;43m*\u001B[39;49m\u001B[38;5;241;43m*\u001B[39;49m\u001B[43mkwargs\u001B[49m\n\u001B[0;32m  12433\u001B[0m \u001B[43m    \u001B[49m\u001B[43m)\u001B[49m\n",
      "File \u001B[1;32m~\\AppData\\Local\\Programs\\Python\\Python312\\Lib\\site-packages\\pandas\\core\\generic.py:12377\u001B[0m, in \u001B[0;36mNDFrame._stat_function\u001B[1;34m(self, name, func, axis, skipna, numeric_only, **kwargs)\u001B[0m\n\u001B[0;32m  12373\u001B[0m nv\u001B[38;5;241m.\u001B[39mvalidate_func(name, (), kwargs)\n\u001B[0;32m  12375\u001B[0m validate_bool_kwarg(skipna, \u001B[38;5;124m\"\u001B[39m\u001B[38;5;124mskipna\u001B[39m\u001B[38;5;124m\"\u001B[39m, none_allowed\u001B[38;5;241m=\u001B[39m\u001B[38;5;28;01mFalse\u001B[39;00m)\n\u001B[1;32m> 12377\u001B[0m \u001B[38;5;28;01mreturn\u001B[39;00m \u001B[38;5;28;43mself\u001B[39;49m\u001B[38;5;241;43m.\u001B[39;49m\u001B[43m_reduce\u001B[49m\u001B[43m(\u001B[49m\n\u001B[0;32m  12378\u001B[0m \u001B[43m    \u001B[49m\u001B[43mfunc\u001B[49m\u001B[43m,\u001B[49m\u001B[43m \u001B[49m\u001B[43mname\u001B[49m\u001B[38;5;241;43m=\u001B[39;49m\u001B[43mname\u001B[49m\u001B[43m,\u001B[49m\u001B[43m \u001B[49m\u001B[43maxis\u001B[49m\u001B[38;5;241;43m=\u001B[39;49m\u001B[43maxis\u001B[49m\u001B[43m,\u001B[49m\u001B[43m \u001B[49m\u001B[43mskipna\u001B[49m\u001B[38;5;241;43m=\u001B[39;49m\u001B[43mskipna\u001B[49m\u001B[43m,\u001B[49m\u001B[43m \u001B[49m\u001B[43mnumeric_only\u001B[49m\u001B[38;5;241;43m=\u001B[39;49m\u001B[43mnumeric_only\u001B[49m\n\u001B[0;32m  12379\u001B[0m \u001B[43m\u001B[49m\u001B[43m)\u001B[49m\n",
      "File \u001B[1;32m~\\AppData\\Local\\Programs\\Python\\Python312\\Lib\\site-packages\\pandas\\core\\frame.py:11562\u001B[0m, in \u001B[0;36mDataFrame._reduce\u001B[1;34m(self, op, name, axis, skipna, numeric_only, filter_type, **kwds)\u001B[0m\n\u001B[0;32m  11558\u001B[0m     df \u001B[38;5;241m=\u001B[39m df\u001B[38;5;241m.\u001B[39mT\n\u001B[0;32m  11560\u001B[0m \u001B[38;5;66;03m# After possibly _get_data and transposing, we are now in the\u001B[39;00m\n\u001B[0;32m  11561\u001B[0m \u001B[38;5;66;03m#  simple case where we can use BlockManager.reduce\u001B[39;00m\n\u001B[1;32m> 11562\u001B[0m res \u001B[38;5;241m=\u001B[39m \u001B[43mdf\u001B[49m\u001B[38;5;241;43m.\u001B[39;49m\u001B[43m_mgr\u001B[49m\u001B[38;5;241;43m.\u001B[39;49m\u001B[43mreduce\u001B[49m\u001B[43m(\u001B[49m\u001B[43mblk_func\u001B[49m\u001B[43m)\u001B[49m\n\u001B[0;32m  11563\u001B[0m out \u001B[38;5;241m=\u001B[39m df\u001B[38;5;241m.\u001B[39m_constructor_from_mgr(res, axes\u001B[38;5;241m=\u001B[39mres\u001B[38;5;241m.\u001B[39maxes)\u001B[38;5;241m.\u001B[39miloc[\u001B[38;5;241m0\u001B[39m]\n\u001B[0;32m  11564\u001B[0m \u001B[38;5;28;01mif\u001B[39;00m out_dtype \u001B[38;5;129;01mis\u001B[39;00m \u001B[38;5;129;01mnot\u001B[39;00m \u001B[38;5;28;01mNone\u001B[39;00m \u001B[38;5;129;01mand\u001B[39;00m out\u001B[38;5;241m.\u001B[39mdtype \u001B[38;5;241m!=\u001B[39m \u001B[38;5;124m\"\u001B[39m\u001B[38;5;124mboolean\u001B[39m\u001B[38;5;124m\"\u001B[39m:\n",
      "File \u001B[1;32m~\\AppData\\Local\\Programs\\Python\\Python312\\Lib\\site-packages\\pandas\\core\\internals\\managers.py:1500\u001B[0m, in \u001B[0;36mBlockManager.reduce\u001B[1;34m(self, func)\u001B[0m\n\u001B[0;32m   1498\u001B[0m res_blocks: \u001B[38;5;28mlist\u001B[39m[Block] \u001B[38;5;241m=\u001B[39m []\n\u001B[0;32m   1499\u001B[0m \u001B[38;5;28;01mfor\u001B[39;00m blk \u001B[38;5;129;01min\u001B[39;00m \u001B[38;5;28mself\u001B[39m\u001B[38;5;241m.\u001B[39mblocks:\n\u001B[1;32m-> 1500\u001B[0m     nbs \u001B[38;5;241m=\u001B[39m \u001B[43mblk\u001B[49m\u001B[38;5;241;43m.\u001B[39;49m\u001B[43mreduce\u001B[49m\u001B[43m(\u001B[49m\u001B[43mfunc\u001B[49m\u001B[43m)\u001B[49m\n\u001B[0;32m   1501\u001B[0m     res_blocks\u001B[38;5;241m.\u001B[39mextend(nbs)\n\u001B[0;32m   1503\u001B[0m index \u001B[38;5;241m=\u001B[39m Index([\u001B[38;5;28;01mNone\u001B[39;00m])  \u001B[38;5;66;03m# placeholder\u001B[39;00m\n",
      "File \u001B[1;32m~\\AppData\\Local\\Programs\\Python\\Python312\\Lib\\site-packages\\pandas\\core\\internals\\blocks.py:404\u001B[0m, in \u001B[0;36mBlock.reduce\u001B[1;34m(self, func)\u001B[0m\n\u001B[0;32m    398\u001B[0m \u001B[38;5;129m@final\u001B[39m\n\u001B[0;32m    399\u001B[0m \u001B[38;5;28;01mdef\u001B[39;00m \u001B[38;5;21mreduce\u001B[39m(\u001B[38;5;28mself\u001B[39m, func) \u001B[38;5;241m-\u001B[39m\u001B[38;5;241m>\u001B[39m \u001B[38;5;28mlist\u001B[39m[Block]:\n\u001B[0;32m    400\u001B[0m     \u001B[38;5;66;03m# We will apply the function and reshape the result into a single-row\u001B[39;00m\n\u001B[0;32m    401\u001B[0m     \u001B[38;5;66;03m#  Block with the same mgr_locs; squeezing will be done at a higher level\u001B[39;00m\n\u001B[0;32m    402\u001B[0m     \u001B[38;5;28;01massert\u001B[39;00m \u001B[38;5;28mself\u001B[39m\u001B[38;5;241m.\u001B[39mndim \u001B[38;5;241m==\u001B[39m \u001B[38;5;241m2\u001B[39m\n\u001B[1;32m--> 404\u001B[0m     result \u001B[38;5;241m=\u001B[39m \u001B[43mfunc\u001B[49m\u001B[43m(\u001B[49m\u001B[38;5;28;43mself\u001B[39;49m\u001B[38;5;241;43m.\u001B[39;49m\u001B[43mvalues\u001B[49m\u001B[43m)\u001B[49m\n\u001B[0;32m    406\u001B[0m     \u001B[38;5;28;01mif\u001B[39;00m \u001B[38;5;28mself\u001B[39m\u001B[38;5;241m.\u001B[39mvalues\u001B[38;5;241m.\u001B[39mndim \u001B[38;5;241m==\u001B[39m \u001B[38;5;241m1\u001B[39m:\n\u001B[0;32m    407\u001B[0m         res_values \u001B[38;5;241m=\u001B[39m result\n",
      "File \u001B[1;32m~\\AppData\\Local\\Programs\\Python\\Python312\\Lib\\site-packages\\pandas\\core\\frame.py:11481\u001B[0m, in \u001B[0;36mDataFrame._reduce.<locals>.blk_func\u001B[1;34m(values, axis)\u001B[0m\n\u001B[0;32m  11479\u001B[0m         \u001B[38;5;28;01mreturn\u001B[39;00m np\u001B[38;5;241m.\u001B[39marray([result])\n\u001B[0;32m  11480\u001B[0m \u001B[38;5;28;01melse\u001B[39;00m:\n\u001B[1;32m> 11481\u001B[0m     \u001B[38;5;28;01mreturn\u001B[39;00m \u001B[43mop\u001B[49m\u001B[43m(\u001B[49m\u001B[43mvalues\u001B[49m\u001B[43m,\u001B[49m\u001B[43m \u001B[49m\u001B[43maxis\u001B[49m\u001B[38;5;241;43m=\u001B[39;49m\u001B[43maxis\u001B[49m\u001B[43m,\u001B[49m\u001B[43m \u001B[49m\u001B[43mskipna\u001B[49m\u001B[38;5;241;43m=\u001B[39;49m\u001B[43mskipna\u001B[49m\u001B[43m,\u001B[49m\u001B[43m \u001B[49m\u001B[38;5;241;43m*\u001B[39;49m\u001B[38;5;241;43m*\u001B[39;49m\u001B[43mkwds\u001B[49m\u001B[43m)\u001B[49m\n",
      "File \u001B[1;32m~\\AppData\\Local\\Programs\\Python\\Python312\\Lib\\site-packages\\pandas\\core\\nanops.py:147\u001B[0m, in \u001B[0;36mbottleneck_switch.__call__.<locals>.f\u001B[1;34m(values, axis, skipna, **kwds)\u001B[0m\n\u001B[0;32m    145\u001B[0m         result \u001B[38;5;241m=\u001B[39m alt(values, axis\u001B[38;5;241m=\u001B[39maxis, skipna\u001B[38;5;241m=\u001B[39mskipna, \u001B[38;5;241m*\u001B[39m\u001B[38;5;241m*\u001B[39mkwds)\n\u001B[0;32m    146\u001B[0m \u001B[38;5;28;01melse\u001B[39;00m:\n\u001B[1;32m--> 147\u001B[0m     result \u001B[38;5;241m=\u001B[39m \u001B[43malt\u001B[49m\u001B[43m(\u001B[49m\u001B[43mvalues\u001B[49m\u001B[43m,\u001B[49m\u001B[43m \u001B[49m\u001B[43maxis\u001B[49m\u001B[38;5;241;43m=\u001B[39;49m\u001B[43maxis\u001B[49m\u001B[43m,\u001B[49m\u001B[43m \u001B[49m\u001B[43mskipna\u001B[49m\u001B[38;5;241;43m=\u001B[39;49m\u001B[43mskipna\u001B[49m\u001B[43m,\u001B[49m\u001B[43m \u001B[49m\u001B[38;5;241;43m*\u001B[39;49m\u001B[38;5;241;43m*\u001B[39;49m\u001B[43mkwds\u001B[49m\u001B[43m)\u001B[49m\n\u001B[0;32m    149\u001B[0m \u001B[38;5;28;01mreturn\u001B[39;00m result\n",
      "File \u001B[1;32m~\\AppData\\Local\\Programs\\Python\\Python312\\Lib\\site-packages\\pandas\\core\\nanops.py:787\u001B[0m, in \u001B[0;36mnanmedian\u001B[1;34m(values, axis, skipna, mask)\u001B[0m\n\u001B[0;32m    785\u001B[0m     inferred \u001B[38;5;241m=\u001B[39m lib\u001B[38;5;241m.\u001B[39minfer_dtype(values)\n\u001B[0;32m    786\u001B[0m     \u001B[38;5;28;01mif\u001B[39;00m inferred \u001B[38;5;129;01min\u001B[39;00m [\u001B[38;5;124m\"\u001B[39m\u001B[38;5;124mstring\u001B[39m\u001B[38;5;124m\"\u001B[39m, \u001B[38;5;124m\"\u001B[39m\u001B[38;5;124mmixed\u001B[39m\u001B[38;5;124m\"\u001B[39m]:\n\u001B[1;32m--> 787\u001B[0m         \u001B[38;5;28;01mraise\u001B[39;00m \u001B[38;5;167;01mTypeError\u001B[39;00m(\u001B[38;5;124mf\u001B[39m\u001B[38;5;124m\"\u001B[39m\u001B[38;5;124mCannot convert \u001B[39m\u001B[38;5;132;01m{\u001B[39;00mvalues\u001B[38;5;132;01m}\u001B[39;00m\u001B[38;5;124m to numeric\u001B[39m\u001B[38;5;124m\"\u001B[39m)\n\u001B[0;32m    788\u001B[0m \u001B[38;5;28;01mtry\u001B[39;00m:\n\u001B[0;32m    789\u001B[0m     values \u001B[38;5;241m=\u001B[39m values\u001B[38;5;241m.\u001B[39mastype(\u001B[38;5;124m\"\u001B[39m\u001B[38;5;124mf8\u001B[39m\u001B[38;5;124m\"\u001B[39m)\n",
      "\u001B[1;31mTypeError\u001B[0m: Cannot convert [['setosa' 'setosa' 'setosa' 'setosa' 'setosa' 'setosa' 'setosa' 'setosa'\n  'setosa' 'setosa' 'setosa' 'setosa' 'setosa' 'setosa' 'setosa' 'setosa'\n  'setosa' 'setosa' 'setosa' 'setosa' 'setosa' 'setosa' 'setosa' 'setosa'\n  'setosa' 'setosa' 'setosa' 'setosa' 'setosa' 'setosa' 'setosa' 'setosa'\n  'setosa' 'setosa' 'setosa' 'setosa' 'setosa' 'setosa' 'setosa' 'setosa'\n  'setosa' 'setosa' 'setosa' 'setosa' 'setosa' 'setosa' 'setosa' 'setosa'\n  'setosa' 'setosa' 'versicolor' 'versicolor' 'versicolor' 'versicolor'\n  'versicolor' 'versicolor' 'versicolor' 'versicolor' 'versicolor'\n  'versicolor' 'versicolor' 'versicolor' 'versicolor' 'versicolor'\n  'versicolor' 'versicolor' 'versicolor' 'versicolor' 'versicolor'\n  'versicolor' 'versicolor' 'versicolor' 'versicolor' 'versicolor'\n  'versicolor' 'versicolor' 'versicolor' 'versicolor' 'versicolor'\n  'versicolor' 'versicolor' 'versicolor' 'versicolor' 'versicolor'\n  'versicolor' 'versicolor' 'versicolor' 'versicolor' 'versicolor'\n  'versicolor' 'versicolor' 'versicolor' 'versicolor' 'versicolor'\n  'versicolor' 'versicolor' 'versicolor' 'versicolor' 'versicolor'\n  'versicolor' 'virginica' 'virginica' 'virginica' 'virginica'\n  'virginica' 'virginica' 'virginica' 'virginica' 'virginica' 'virginica'\n  'virginica' 'virginica' 'virginica' 'virginica' 'virginica' 'virginica'\n  'virginica' 'virginica' 'virginica' 'virginica' 'virginica' 'virginica'\n  'virginica' 'virginica' 'virginica' 'virginica' 'virginica' 'virginica'\n  'virginica' 'virginica' 'virginica' 'virginica' 'virginica' 'virginica'\n  'virginica' 'virginica' 'virginica' 'virginica' 'virginica' 'virginica'\n  'virginica' 'virginica' 'virginica' 'virginica' 'virginica' 'virginica'\n  'virginica' 'virginica' 'virginica' 'virginica']] to numeric"
     ]
    }
   ],
   "source": [
    "analyze_iris(\"iris.json\")"
   ],
   "metadata": {
    "collapsed": false,
    "ExecuteTime": {
     "end_time": "2025-03-31T18:31:03.917745Z",
     "start_time": "2025-03-31T18:31:03.342610Z"
    }
   },
   "id": "71f02f796f2be780",
   "execution_count": 56
  },
  {
   "cell_type": "code",
   "outputs": [],
   "source": [
    "def analyze_titanic(excel_path):\n",
    "    df = pd.read_excel(excel_path)\n",
    "    print(f\"Minimum Age: {df['Age'].min()}\")\n",
    "    print(f\"Maximum Age: {df['Age'].max()}\")\n",
    "    print(f\"Total Sum of Ages: {df['Age'].sum()}\")"
   ],
   "metadata": {
    "collapsed": false,
    "ExecuteTime": {
     "end_time": "2025-03-31T18:31:23.614951Z",
     "start_time": "2025-03-31T18:31:23.606606Z"
    }
   },
   "id": "dbc5e86fc70f7f89",
   "execution_count": 57
  },
  {
   "cell_type": "code",
   "outputs": [
    {
     "name": "stdout",
     "output_type": "stream",
     "text": [
      "Minimum Age: 0.42\n",
      "Maximum Age: 80.0\n",
      "Total Sum of Ages: 21205.17\n"
     ]
    }
   ],
   "source": [
    "analyze_titanic(\"titanic.xlsx\")"
   ],
   "metadata": {
    "collapsed": false,
    "ExecuteTime": {
     "end_time": "2025-03-31T18:31:26.952Z",
     "start_time": "2025-03-31T18:31:26.721083Z"
    }
   },
   "id": "79f153da0f275e8c",
   "execution_count": 58
  },
  {
   "cell_type": "code",
   "outputs": [],
   "source": [
    "def analyze_movies(csv_path):\n",
    "    df = pd.read_csv(csv_path)\n",
    "    top_director = df.groupby('director_name')['director_facebook_likes'].sum().idxmax()\n",
    "    print(f\"Director with highest total Facebook likes: {top_director}\")\n",
    "    longest_movies = df.nlargest(5, 'duration')[['duration', 'director_name']]\n",
    "    print(\"Top 5 longest movies and their directors:\")\n",
    "    display(longest_movies)"
   ],
   "metadata": {
    "collapsed": false,
    "ExecuteTime": {
     "end_time": "2025-03-31T18:31:29.171643Z",
     "start_time": "2025-03-31T18:31:29.162998Z"
    }
   },
   "id": "b88b3f16bf2a2c3a",
   "execution_count": 59
  },
  {
   "cell_type": "code",
   "outputs": [
    {
     "name": "stdout",
     "output_type": "stream",
     "text": [
      "Director with highest total Facebook likes: Steven Spielberg\n",
      "Top 5 longest movies and their directors:\n"
     ]
    },
    {
     "data": {
      "text/plain": "      duration        director_name\n1694     511.0                  NaN\n2436     334.0                  NaN\n1487     330.0      Taylor Hackford\n1134     325.0       Michael Cimino\n3254     300.0  Chatrichalerm Yukol",
      "text/html": "<div>\n<style scoped>\n    .dataframe tbody tr th:only-of-type {\n        vertical-align: middle;\n    }\n\n    .dataframe tbody tr th {\n        vertical-align: top;\n    }\n\n    .dataframe thead th {\n        text-align: right;\n    }\n</style>\n<table border=\"1\" class=\"dataframe\">\n  <thead>\n    <tr style=\"text-align: right;\">\n      <th></th>\n      <th>duration</th>\n      <th>director_name</th>\n    </tr>\n  </thead>\n  <tbody>\n    <tr>\n      <th>1694</th>\n      <td>511.0</td>\n      <td>NaN</td>\n    </tr>\n    <tr>\n      <th>2436</th>\n      <td>334.0</td>\n      <td>NaN</td>\n    </tr>\n    <tr>\n      <th>1487</th>\n      <td>330.0</td>\n      <td>Taylor Hackford</td>\n    </tr>\n    <tr>\n      <th>1134</th>\n      <td>325.0</td>\n      <td>Michael Cimino</td>\n    </tr>\n    <tr>\n      <th>3254</th>\n      <td>300.0</td>\n      <td>Chatrichalerm Yukol</td>\n    </tr>\n  </tbody>\n</table>\n</div>"
     },
     "metadata": {},
     "output_type": "display_data"
    }
   ],
   "source": [
    "analyze_movies(\"movie.csv\")"
   ],
   "metadata": {
    "collapsed": false,
    "ExecuteTime": {
     "end_time": "2025-03-31T18:31:30.639185Z",
     "start_time": "2025-03-31T18:31:30.520885Z"
    }
   },
   "id": "189d493f448c3deb",
   "execution_count": 60
  },
  {
   "cell_type": "code",
   "outputs": [],
   "source": [
    "def analyze_flights(parquet_path):\n",
    "    df = pd.read_parquet(parquet_path)\n",
    "    print(\"Missing values per column:\")\n",
    "    display(df.isnull().sum())\n",
    "    for col in df.select_dtypes(include=['number']).columns:\n",
    "        df[col].fillna(df[col].mean(), inplace=True)\n",
    "    print(\"Missing values after filling numerical columns:\")\n",
    "    display(df.isnull().sum())"
   ],
   "metadata": {
    "collapsed": false,
    "ExecuteTime": {
     "end_time": "2025-03-31T18:31:31.362183Z",
     "start_time": "2025-03-31T18:31:31.355699Z"
    }
   },
   "id": "33095b74a4b49c4b",
   "execution_count": 61
  }
 ],
 "metadata": {
  "kernelspec": {
   "display_name": "Python 3",
   "language": "python",
   "name": "python3"
  },
  "language_info": {
   "codemirror_mode": {
    "name": "ipython",
    "version": 2
   },
   "file_extension": ".py",
   "mimetype": "text/x-python",
   "name": "python",
   "nbconvert_exporter": "python",
   "pygments_lexer": "ipython2",
   "version": "2.7.6"
  }
 },
 "nbformat": 4,
 "nbformat_minor": 5
}
