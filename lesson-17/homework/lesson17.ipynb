{
 "cells": [
  {
   "cell_type": "code",
   "outputs": [],
   "source": [
    "import sqlite3\n",
    "import pandas as pd"
   ],
   "metadata": {
    "collapsed": false,
    "ExecuteTime": {
     "end_time": "2025-03-31T18:45:16.985043Z",
     "start_time": "2025-03-31T18:45:16.978571Z"
    }
   },
   "id": "1b9610dd5e0feb8e",
   "execution_count": 2
  },
  {
   "cell_type": "code",
   "outputs": [],
   "source": [
    "# 1️⃣ Inner Join on Chinook Database\n",
    "conn = sqlite3.connect(\"chinook.db\")\n",
    "\n",
    "customers_df = pd.read_sql_query(\"SELECT * FROM customers\", conn)\n",
    "invoices_df = pd.read_sql_query(\"SELECT * FROM invoices\", conn)"
   ],
   "metadata": {
    "collapsed": false,
    "ExecuteTime": {
     "end_time": "2025-03-31T18:45:35.031560Z",
     "start_time": "2025-03-31T18:45:34.998399Z"
    }
   },
   "id": "9c4b377d203faa02",
   "execution_count": 3
  },
  {
   "cell_type": "code",
   "outputs": [],
   "source": [
    "# Inner Join on CustomerId\n",
    "merged_df = pd.merge(customers_df, invoices_df, on=\"CustomerId\", how=\"inner\")"
   ],
   "metadata": {
    "collapsed": false,
    "ExecuteTime": {
     "end_time": "2025-03-31T18:45:56.390404Z",
     "start_time": "2025-03-31T18:45:56.377631Z"
    }
   },
   "id": "69e2e16ca86ad5db",
   "execution_count": 4
  },
  {
   "cell_type": "code",
   "outputs": [],
   "source": [
    "# Count invoices per customer\n",
    "invoice_counts = merged_df.groupby([\"CustomerId\", \"FirstName\", \"LastName\"]).size().reset_index(name=\"TotalInvoices\")"
   ],
   "metadata": {
    "collapsed": false,
    "ExecuteTime": {
     "end_time": "2025-03-31T18:46:25.741920Z",
     "start_time": "2025-03-31T18:46:25.725986Z"
    }
   },
   "id": "259acafc483dd7c9",
   "execution_count": 5
  },
  {
   "cell_type": "code",
   "outputs": [
    {
     "name": "stdout",
     "output_type": "stream",
     "text": [
      "\n",
      "Total invoices per customer:\n"
     ]
    },
    {
     "data": {
      "text/plain": "    CustomerId  FirstName      LastName  TotalInvoices\n0            1       Luís     Gonçalves              7\n1            2     Leonie        Köhler              7\n2            3   François      Tremblay              7\n3            4      Bjørn        Hansen              7\n4            5  František   Wichterlová              7\n5            6     Helena          Holý              7\n6            7     Astrid        Gruber              7\n7            8       Daan       Peeters              7\n8            9       Kara       Nielsen              7\n9           10    Eduardo       Martins              7\n10          11  Alexandre         Rocha              7\n11          12    Roberto       Almeida              7\n12          13   Fernanda         Ramos              7\n13          14       Mark       Philips              7\n14          15   Jennifer      Peterson              7\n15          16      Frank        Harris              7\n16          17       Jack         Smith              7\n17          18   Michelle        Brooks              7\n18          19        Tim         Goyer              7\n19          20        Dan        Miller              7\n20          21      Kathy         Chase              7\n21          22    Heather       Leacock              7\n22          23       John        Gordon              7\n23          24      Frank       Ralston              7\n24          25     Victor       Stevens              7\n25          26    Richard    Cunningham              7\n26          27    Patrick          Gray              7\n27          28      Julia       Barnett              7\n28          29     Robert         Brown              7\n29          30     Edward       Francis              7\n30          31     Martha          Silk              7\n31          32      Aaron      Mitchell              7\n32          33      Ellie      Sullivan              7\n33          34       João     Fernandes              7\n34          35   Madalena       Sampaio              7\n35          36     Hannah     Schneider              7\n36          37       Fynn    Zimmermann              7\n37          38     Niklas      Schröder              7\n38          39    Camille       Bernard              7\n39          40  Dominique      Lefebvre              7\n40          41       Marc        Dubois              7\n41          42      Wyatt        Girard              7\n42          43   Isabelle       Mercier              7\n43          44      Terhi    Hämäläinen              7\n44          45   Ladislav        Kovács              7\n45          46       Hugh      O'Reilly              7\n46          47      Lucas       Mancini              7\n47          48   Johannes  Van der Berg              7\n48          49  Stanisław        Wójcik              7\n49          50    Enrique         Muñoz              7\n50          51     Joakim     Johansson              7\n51          52       Emma         Jones              7\n52          53       Phil        Hughes              7\n53          54      Steve        Murray              7\n54          55       Mark        Taylor              7\n55          56      Diego     Gutiérrez              7\n56          57       Luis         Rojas              7\n57          58      Manoj        Pareek              7\n58          59       Puja    Srivastava              6",
      "text/html": "<div>\n<style scoped>\n    .dataframe tbody tr th:only-of-type {\n        vertical-align: middle;\n    }\n\n    .dataframe tbody tr th {\n        vertical-align: top;\n    }\n\n    .dataframe thead th {\n        text-align: right;\n    }\n</style>\n<table border=\"1\" class=\"dataframe\">\n  <thead>\n    <tr style=\"text-align: right;\">\n      <th></th>\n      <th>CustomerId</th>\n      <th>FirstName</th>\n      <th>LastName</th>\n      <th>TotalInvoices</th>\n    </tr>\n  </thead>\n  <tbody>\n    <tr>\n      <th>0</th>\n      <td>1</td>\n      <td>Luís</td>\n      <td>Gonçalves</td>\n      <td>7</td>\n    </tr>\n    <tr>\n      <th>1</th>\n      <td>2</td>\n      <td>Leonie</td>\n      <td>Köhler</td>\n      <td>7</td>\n    </tr>\n    <tr>\n      <th>2</th>\n      <td>3</td>\n      <td>François</td>\n      <td>Tremblay</td>\n      <td>7</td>\n    </tr>\n    <tr>\n      <th>3</th>\n      <td>4</td>\n      <td>Bjørn</td>\n      <td>Hansen</td>\n      <td>7</td>\n    </tr>\n    <tr>\n      <th>4</th>\n      <td>5</td>\n      <td>František</td>\n      <td>Wichterlová</td>\n      <td>7</td>\n    </tr>\n    <tr>\n      <th>5</th>\n      <td>6</td>\n      <td>Helena</td>\n      <td>Holý</td>\n      <td>7</td>\n    </tr>\n    <tr>\n      <th>6</th>\n      <td>7</td>\n      <td>Astrid</td>\n      <td>Gruber</td>\n      <td>7</td>\n    </tr>\n    <tr>\n      <th>7</th>\n      <td>8</td>\n      <td>Daan</td>\n      <td>Peeters</td>\n      <td>7</td>\n    </tr>\n    <tr>\n      <th>8</th>\n      <td>9</td>\n      <td>Kara</td>\n      <td>Nielsen</td>\n      <td>7</td>\n    </tr>\n    <tr>\n      <th>9</th>\n      <td>10</td>\n      <td>Eduardo</td>\n      <td>Martins</td>\n      <td>7</td>\n    </tr>\n    <tr>\n      <th>10</th>\n      <td>11</td>\n      <td>Alexandre</td>\n      <td>Rocha</td>\n      <td>7</td>\n    </tr>\n    <tr>\n      <th>11</th>\n      <td>12</td>\n      <td>Roberto</td>\n      <td>Almeida</td>\n      <td>7</td>\n    </tr>\n    <tr>\n      <th>12</th>\n      <td>13</td>\n      <td>Fernanda</td>\n      <td>Ramos</td>\n      <td>7</td>\n    </tr>\n    <tr>\n      <th>13</th>\n      <td>14</td>\n      <td>Mark</td>\n      <td>Philips</td>\n      <td>7</td>\n    </tr>\n    <tr>\n      <th>14</th>\n      <td>15</td>\n      <td>Jennifer</td>\n      <td>Peterson</td>\n      <td>7</td>\n    </tr>\n    <tr>\n      <th>15</th>\n      <td>16</td>\n      <td>Frank</td>\n      <td>Harris</td>\n      <td>7</td>\n    </tr>\n    <tr>\n      <th>16</th>\n      <td>17</td>\n      <td>Jack</td>\n      <td>Smith</td>\n      <td>7</td>\n    </tr>\n    <tr>\n      <th>17</th>\n      <td>18</td>\n      <td>Michelle</td>\n      <td>Brooks</td>\n      <td>7</td>\n    </tr>\n    <tr>\n      <th>18</th>\n      <td>19</td>\n      <td>Tim</td>\n      <td>Goyer</td>\n      <td>7</td>\n    </tr>\n    <tr>\n      <th>19</th>\n      <td>20</td>\n      <td>Dan</td>\n      <td>Miller</td>\n      <td>7</td>\n    </tr>\n    <tr>\n      <th>20</th>\n      <td>21</td>\n      <td>Kathy</td>\n      <td>Chase</td>\n      <td>7</td>\n    </tr>\n    <tr>\n      <th>21</th>\n      <td>22</td>\n      <td>Heather</td>\n      <td>Leacock</td>\n      <td>7</td>\n    </tr>\n    <tr>\n      <th>22</th>\n      <td>23</td>\n      <td>John</td>\n      <td>Gordon</td>\n      <td>7</td>\n    </tr>\n    <tr>\n      <th>23</th>\n      <td>24</td>\n      <td>Frank</td>\n      <td>Ralston</td>\n      <td>7</td>\n    </tr>\n    <tr>\n      <th>24</th>\n      <td>25</td>\n      <td>Victor</td>\n      <td>Stevens</td>\n      <td>7</td>\n    </tr>\n    <tr>\n      <th>25</th>\n      <td>26</td>\n      <td>Richard</td>\n      <td>Cunningham</td>\n      <td>7</td>\n    </tr>\n    <tr>\n      <th>26</th>\n      <td>27</td>\n      <td>Patrick</td>\n      <td>Gray</td>\n      <td>7</td>\n    </tr>\n    <tr>\n      <th>27</th>\n      <td>28</td>\n      <td>Julia</td>\n      <td>Barnett</td>\n      <td>7</td>\n    </tr>\n    <tr>\n      <th>28</th>\n      <td>29</td>\n      <td>Robert</td>\n      <td>Brown</td>\n      <td>7</td>\n    </tr>\n    <tr>\n      <th>29</th>\n      <td>30</td>\n      <td>Edward</td>\n      <td>Francis</td>\n      <td>7</td>\n    </tr>\n    <tr>\n      <th>30</th>\n      <td>31</td>\n      <td>Martha</td>\n      <td>Silk</td>\n      <td>7</td>\n    </tr>\n    <tr>\n      <th>31</th>\n      <td>32</td>\n      <td>Aaron</td>\n      <td>Mitchell</td>\n      <td>7</td>\n    </tr>\n    <tr>\n      <th>32</th>\n      <td>33</td>\n      <td>Ellie</td>\n      <td>Sullivan</td>\n      <td>7</td>\n    </tr>\n    <tr>\n      <th>33</th>\n      <td>34</td>\n      <td>João</td>\n      <td>Fernandes</td>\n      <td>7</td>\n    </tr>\n    <tr>\n      <th>34</th>\n      <td>35</td>\n      <td>Madalena</td>\n      <td>Sampaio</td>\n      <td>7</td>\n    </tr>\n    <tr>\n      <th>35</th>\n      <td>36</td>\n      <td>Hannah</td>\n      <td>Schneider</td>\n      <td>7</td>\n    </tr>\n    <tr>\n      <th>36</th>\n      <td>37</td>\n      <td>Fynn</td>\n      <td>Zimmermann</td>\n      <td>7</td>\n    </tr>\n    <tr>\n      <th>37</th>\n      <td>38</td>\n      <td>Niklas</td>\n      <td>Schröder</td>\n      <td>7</td>\n    </tr>\n    <tr>\n      <th>38</th>\n      <td>39</td>\n      <td>Camille</td>\n      <td>Bernard</td>\n      <td>7</td>\n    </tr>\n    <tr>\n      <th>39</th>\n      <td>40</td>\n      <td>Dominique</td>\n      <td>Lefebvre</td>\n      <td>7</td>\n    </tr>\n    <tr>\n      <th>40</th>\n      <td>41</td>\n      <td>Marc</td>\n      <td>Dubois</td>\n      <td>7</td>\n    </tr>\n    <tr>\n      <th>41</th>\n      <td>42</td>\n      <td>Wyatt</td>\n      <td>Girard</td>\n      <td>7</td>\n    </tr>\n    <tr>\n      <th>42</th>\n      <td>43</td>\n      <td>Isabelle</td>\n      <td>Mercier</td>\n      <td>7</td>\n    </tr>\n    <tr>\n      <th>43</th>\n      <td>44</td>\n      <td>Terhi</td>\n      <td>Hämäläinen</td>\n      <td>7</td>\n    </tr>\n    <tr>\n      <th>44</th>\n      <td>45</td>\n      <td>Ladislav</td>\n      <td>Kovács</td>\n      <td>7</td>\n    </tr>\n    <tr>\n      <th>45</th>\n      <td>46</td>\n      <td>Hugh</td>\n      <td>O'Reilly</td>\n      <td>7</td>\n    </tr>\n    <tr>\n      <th>46</th>\n      <td>47</td>\n      <td>Lucas</td>\n      <td>Mancini</td>\n      <td>7</td>\n    </tr>\n    <tr>\n      <th>47</th>\n      <td>48</td>\n      <td>Johannes</td>\n      <td>Van der Berg</td>\n      <td>7</td>\n    </tr>\n    <tr>\n      <th>48</th>\n      <td>49</td>\n      <td>Stanisław</td>\n      <td>Wójcik</td>\n      <td>7</td>\n    </tr>\n    <tr>\n      <th>49</th>\n      <td>50</td>\n      <td>Enrique</td>\n      <td>Muñoz</td>\n      <td>7</td>\n    </tr>\n    <tr>\n      <th>50</th>\n      <td>51</td>\n      <td>Joakim</td>\n      <td>Johansson</td>\n      <td>7</td>\n    </tr>\n    <tr>\n      <th>51</th>\n      <td>52</td>\n      <td>Emma</td>\n      <td>Jones</td>\n      <td>7</td>\n    </tr>\n    <tr>\n      <th>52</th>\n      <td>53</td>\n      <td>Phil</td>\n      <td>Hughes</td>\n      <td>7</td>\n    </tr>\n    <tr>\n      <th>53</th>\n      <td>54</td>\n      <td>Steve</td>\n      <td>Murray</td>\n      <td>7</td>\n    </tr>\n    <tr>\n      <th>54</th>\n      <td>55</td>\n      <td>Mark</td>\n      <td>Taylor</td>\n      <td>7</td>\n    </tr>\n    <tr>\n      <th>55</th>\n      <td>56</td>\n      <td>Diego</td>\n      <td>Gutiérrez</td>\n      <td>7</td>\n    </tr>\n    <tr>\n      <th>56</th>\n      <td>57</td>\n      <td>Luis</td>\n      <td>Rojas</td>\n      <td>7</td>\n    </tr>\n    <tr>\n      <th>57</th>\n      <td>58</td>\n      <td>Manoj</td>\n      <td>Pareek</td>\n      <td>7</td>\n    </tr>\n    <tr>\n      <th>58</th>\n      <td>59</td>\n      <td>Puja</td>\n      <td>Srivastava</td>\n      <td>6</td>\n    </tr>\n  </tbody>\n</table>\n</div>"
     },
     "metadata": {},
     "output_type": "display_data"
    }
   ],
   "source": [
    "print(\"\\nTotal invoices per customer:\")\n",
    "display(invoice_counts)\n"
   ],
   "metadata": {
    "collapsed": false,
    "ExecuteTime": {
     "end_time": "2025-03-31T18:46:36.280089Z",
     "start_time": "2025-03-31T18:46:36.255404Z"
    }
   },
   "id": "293c9f6762323d85",
   "execution_count": 6
  },
  {
   "cell_type": "code",
   "outputs": [],
   "source": [
    "conn.close()"
   ],
   "metadata": {
    "collapsed": false,
    "ExecuteTime": {
     "end_time": "2025-03-31T18:46:57.196117Z",
     "start_time": "2025-03-31T18:46:57.188302Z"
    }
   },
   "id": "52d27a14bcb7ddda",
   "execution_count": 7
  },
  {
   "cell_type": "code",
   "outputs": [],
   "source": [
    "# 2️⃣ Outer Join on Movie Data\n",
    "movie_df = pd.read_csv(\"movie.csv\")"
   ],
   "metadata": {
    "collapsed": false,
    "ExecuteTime": {
     "end_time": "2025-03-31T18:47:15.589920Z",
     "start_time": "2025-03-31T18:47:15.470274Z"
    }
   },
   "id": "bbfafa45811065da",
   "execution_count": 8
  },
  {
   "cell_type": "code",
   "outputs": [],
   "source": [
    "# Create two smaller DataFrames\n",
    "df1 = movie_df[[\"director_name\", \"color\"]].dropna().drop_duplicates()\n",
    "df2 = movie_df[[\"director_name\", \"num_critic_for_reviews\"]].dropna().drop_duplicates()"
   ],
   "metadata": {
    "collapsed": false,
    "ExecuteTime": {
     "end_time": "2025-03-31T18:47:27.817004Z",
     "start_time": "2025-03-31T18:47:27.790863Z"
    }
   },
   "id": "3ca17d851cce000d",
   "execution_count": 9
  },
  {
   "cell_type": "code",
   "outputs": [],
   "source": [
    "# Left Join\n",
    "left_join_df = pd.merge(df1, df2, on=\"director_name\", how=\"left\")"
   ],
   "metadata": {
    "collapsed": false,
    "ExecuteTime": {
     "end_time": "2025-03-31T18:47:39.081999Z",
     "start_time": "2025-03-31T18:47:39.067184Z"
    }
   },
   "id": "e3fac9ee8f7a5bdc",
   "execution_count": 10
  },
  {
   "cell_type": "code",
   "outputs": [],
   "source": [
    "# Full Outer Join\n",
    "outer_join_df = pd.merge(df1, df2, on=\"director_name\", how=\"outer\")"
   ],
   "metadata": {
    "collapsed": false,
    "ExecuteTime": {
     "end_time": "2025-03-31T18:47:51.617661Z",
     "start_time": "2025-03-31T18:47:51.600577Z"
    }
   },
   "id": "f27a518452f1b4dc",
   "execution_count": 11
  },
  {
   "cell_type": "code",
   "outputs": [
    {
     "name": "stdout",
     "output_type": "stream",
     "text": [
      "\n",
      "Rows in Left Join: 5363\n",
      "Rows in Full Outer Join: 5371\n"
     ]
    }
   ],
   "source": [
    "# Display results\n",
    "print(\"\\nRows in Left Join:\", len(left_join_df))\n",
    "print(\"Rows in Full Outer Join:\", len(outer_join_df))"
   ],
   "metadata": {
    "collapsed": false,
    "ExecuteTime": {
     "end_time": "2025-03-31T18:48:01.402164Z",
     "start_time": "2025-03-31T18:48:01.394238Z"
    }
   },
   "id": "f40320e05656c6e7",
   "execution_count": 12
  },
  {
   "cell_type": "code",
   "outputs": [
    {
     "data": {
      "text/plain": "          Avg_Age  Total_Fare  Passenger_Count\nPclass                                        \n1       38.233441  18177.4125              216\n2       29.877630   3801.8417              184\n3       25.140620   6714.6951              491",
      "text/html": "<div>\n<style scoped>\n    .dataframe tbody tr th:only-of-type {\n        vertical-align: middle;\n    }\n\n    .dataframe tbody tr th {\n        vertical-align: top;\n    }\n\n    .dataframe thead th {\n        text-align: right;\n    }\n</style>\n<table border=\"1\" class=\"dataframe\">\n  <thead>\n    <tr style=\"text-align: right;\">\n      <th></th>\n      <th>Avg_Age</th>\n      <th>Total_Fare</th>\n      <th>Passenger_Count</th>\n    </tr>\n    <tr>\n      <th>Pclass</th>\n      <th></th>\n      <th></th>\n      <th></th>\n    </tr>\n  </thead>\n  <tbody>\n    <tr>\n      <th>1</th>\n      <td>38.233441</td>\n      <td>18177.4125</td>\n      <td>216</td>\n    </tr>\n    <tr>\n      <th>2</th>\n      <td>29.877630</td>\n      <td>3801.8417</td>\n      <td>184</td>\n    </tr>\n    <tr>\n      <th>3</th>\n      <td>25.140620</td>\n      <td>6714.6951</td>\n      <td>491</td>\n    </tr>\n  </tbody>\n</table>\n</div>"
     },
     "metadata": {},
     "output_type": "display_data"
    }
   ],
   "source": [
    "import pandas as pd\n",
    "\n",
    "# Load Titanic dataset\n",
    "titanic_df = pd.read_excel(\"titanic.xlsx\", engine=\"openpyxl\")\n",
    "\n",
    "# Group by Pclass and calculate metrics\n",
    "titanic_grouped = titanic_df.groupby(\"Pclass\").agg(\n",
    "    Avg_Age=(\"Age\", \"mean\"),\n",
    "    Total_Fare=(\"Fare\", \"sum\"),\n",
    "    Passenger_Count=(\"PassengerId\", \"count\")\n",
    ")\n",
    "\n",
    "# Display results\n",
    "display(titanic_grouped)\n"
   ],
   "metadata": {
    "collapsed": false,
    "ExecuteTime": {
     "end_time": "2025-03-31T18:49:14.709636Z",
     "start_time": "2025-03-31T18:49:12.988179Z"
    }
   },
   "id": "6b2930e94e03304f",
   "execution_count": 13
  },
  {
   "cell_type": "code",
   "outputs": [
    {
     "data": {
      "text/plain": "                                    Total_Critic_Reviews  Avg_Duration\ncolor           director_name                                         \nBlack and White Akira Kurosawa                     153.0         202.0\n                Aleksey German                     121.0         177.0\n                Alex Garland                       489.0         108.0\n                Alexander Payne                    433.0         115.0\n                Alfred Hitchcock                   434.0         119.0\n...                                                  ...           ...\nColor           Zoran Lisinac                       17.0         108.0\n                Álex de la Iglesia                  71.0         104.0\n                Émile Gaudreault                    67.0          92.0\n                Éric Tessier                         9.0          99.0\n                Étienne Faure                        9.0          98.0\n\n[2490 rows x 2 columns]",
      "text/html": "<div>\n<style scoped>\n    .dataframe tbody tr th:only-of-type {\n        vertical-align: middle;\n    }\n\n    .dataframe tbody tr th {\n        vertical-align: top;\n    }\n\n    .dataframe thead th {\n        text-align: right;\n    }\n</style>\n<table border=\"1\" class=\"dataframe\">\n  <thead>\n    <tr style=\"text-align: right;\">\n      <th></th>\n      <th></th>\n      <th>Total_Critic_Reviews</th>\n      <th>Avg_Duration</th>\n    </tr>\n    <tr>\n      <th>color</th>\n      <th>director_name</th>\n      <th></th>\n      <th></th>\n    </tr>\n  </thead>\n  <tbody>\n    <tr>\n      <th rowspan=\"5\" valign=\"top\">Black and White</th>\n      <th>Akira Kurosawa</th>\n      <td>153.0</td>\n      <td>202.0</td>\n    </tr>\n    <tr>\n      <th>Aleksey German</th>\n      <td>121.0</td>\n      <td>177.0</td>\n    </tr>\n    <tr>\n      <th>Alex Garland</th>\n      <td>489.0</td>\n      <td>108.0</td>\n    </tr>\n    <tr>\n      <th>Alexander Payne</th>\n      <td>433.0</td>\n      <td>115.0</td>\n    </tr>\n    <tr>\n      <th>Alfred Hitchcock</th>\n      <td>434.0</td>\n      <td>119.0</td>\n    </tr>\n    <tr>\n      <th>...</th>\n      <th>...</th>\n      <td>...</td>\n      <td>...</td>\n    </tr>\n    <tr>\n      <th rowspan=\"5\" valign=\"top\">Color</th>\n      <th>Zoran Lisinac</th>\n      <td>17.0</td>\n      <td>108.0</td>\n    </tr>\n    <tr>\n      <th>Álex de la Iglesia</th>\n      <td>71.0</td>\n      <td>104.0</td>\n    </tr>\n    <tr>\n      <th>Émile Gaudreault</th>\n      <td>67.0</td>\n      <td>92.0</td>\n    </tr>\n    <tr>\n      <th>Éric Tessier</th>\n      <td>9.0</td>\n      <td>99.0</td>\n    </tr>\n    <tr>\n      <th>Étienne Faure</th>\n      <td>9.0</td>\n      <td>98.0</td>\n    </tr>\n  </tbody>\n</table>\n<p>2490 rows × 2 columns</p>\n</div>"
     },
     "metadata": {},
     "output_type": "display_data"
    }
   ],
   "source": [
    "# Load Movie dataset\n",
    "movie_df = pd.read_csv(\"movie.csv\")\n",
    "\n",
    "# Group by color and director_name\n",
    "movie_grouped = movie_df.groupby([\"color\", \"director_name\"]).agg(\n",
    "    Total_Critic_Reviews=(\"num_critic_for_reviews\", \"sum\"),\n",
    "    Avg_Duration=(\"duration\", \"mean\")\n",
    ")\n",
    "\n",
    "# Display results\n",
    "display(movie_grouped)\n"
   ],
   "metadata": {
    "collapsed": false,
    "ExecuteTime": {
     "end_time": "2025-03-31T18:49:37.968586Z",
     "start_time": "2025-03-31T18:49:37.821005Z"
    }
   },
   "id": "8eb6e951d58b12bb",
   "execution_count": 14
  },
  {
   "cell_type": "code",
   "outputs": [
    {
     "data": {
      "text/plain": "    Age Age_Group\n0  22.0     Adult\n1  38.0     Adult\n2  26.0     Adult\n3  35.0     Adult\n4  35.0     Adult",
      "text/html": "<div>\n<style scoped>\n    .dataframe tbody tr th:only-of-type {\n        vertical-align: middle;\n    }\n\n    .dataframe tbody tr th {\n        vertical-align: top;\n    }\n\n    .dataframe thead th {\n        text-align: right;\n    }\n</style>\n<table border=\"1\" class=\"dataframe\">\n  <thead>\n    <tr style=\"text-align: right;\">\n      <th></th>\n      <th>Age</th>\n      <th>Age_Group</th>\n    </tr>\n  </thead>\n  <tbody>\n    <tr>\n      <th>0</th>\n      <td>22.0</td>\n      <td>Adult</td>\n    </tr>\n    <tr>\n      <th>1</th>\n      <td>38.0</td>\n      <td>Adult</td>\n    </tr>\n    <tr>\n      <th>2</th>\n      <td>26.0</td>\n      <td>Adult</td>\n    </tr>\n    <tr>\n      <th>3</th>\n      <td>35.0</td>\n      <td>Adult</td>\n    </tr>\n    <tr>\n      <th>4</th>\n      <td>35.0</td>\n      <td>Adult</td>\n    </tr>\n  </tbody>\n</table>\n</div>"
     },
     "metadata": {},
     "output_type": "display_data"
    }
   ],
   "source": [
    "import pandas as pd\n",
    "\n",
    "# Load Titanic dataset\n",
    "titanic_df = pd.read_excel(\"titanic.xlsx\", engine=\"openpyxl\")\n",
    "\n",
    "# Define function to classify passengers\n",
    "def classify_age_group(age):\n",
    "    if age < 18:\n",
    "        return 'Child'\n",
    "    else:\n",
    "        return 'Adult'\n",
    "\n",
    "# Apply function to create a new column 'Age_Group'\n",
    "titanic_df['Age_Group'] = titanic_df['Age'].apply(classify_age_group)\n",
    "\n",
    "# Display the updated DataFrame\n",
    "display(titanic_df[['Age', 'Age_Group']].head())\n"
   ],
   "metadata": {
    "collapsed": false,
    "ExecuteTime": {
     "end_time": "2025-03-31T18:50:19.177078Z",
     "start_time": "2025-03-31T18:50:18.826772Z"
    }
   },
   "id": "5ed3ecde81a775ac",
   "execution_count": 15
  },
  {
   "cell_type": "code",
   "outputs": [
    {
     "ename": "KeyError",
     "evalue": "'Department'",
     "output_type": "error",
     "traceback": [
      "\u001B[1;31m---------------------------------------------------------------------------\u001B[0m",
      "\u001B[1;31mKeyError\u001B[0m                                  Traceback (most recent call last)",
      "Cell \u001B[1;32mIn[16], line 5\u001B[0m\n\u001B[0;32m      2\u001B[0m employee_df \u001B[38;5;241m=\u001B[39m pd\u001B[38;5;241m.\u001B[39mread_csv(\u001B[38;5;124m\"\u001B[39m\u001B[38;5;124memployee.csv\u001B[39m\u001B[38;5;124m\"\u001B[39m)\n\u001B[0;32m      4\u001B[0m \u001B[38;5;66;03m# Normalize the salaries within each department\u001B[39;00m\n\u001B[1;32m----> 5\u001B[0m employee_df[\u001B[38;5;124m'\u001B[39m\u001B[38;5;124mNormalized_Salary\u001B[39m\u001B[38;5;124m'\u001B[39m] \u001B[38;5;241m=\u001B[39m \u001B[43memployee_df\u001B[49m\u001B[38;5;241;43m.\u001B[39;49m\u001B[43mgroupby\u001B[49m\u001B[43m(\u001B[49m\u001B[38;5;124;43m'\u001B[39;49m\u001B[38;5;124;43mDepartment\u001B[39;49m\u001B[38;5;124;43m'\u001B[39;49m\u001B[43m)\u001B[49m[\u001B[38;5;124m'\u001B[39m\u001B[38;5;124mSalary\u001B[39m\u001B[38;5;124m'\u001B[39m]\u001B[38;5;241m.\u001B[39mtransform(\n\u001B[0;32m      6\u001B[0m     \u001B[38;5;28;01mlambda\u001B[39;00m x: (x \u001B[38;5;241m-\u001B[39m x\u001B[38;5;241m.\u001B[39mmin()) \u001B[38;5;241m/\u001B[39m (x\u001B[38;5;241m.\u001B[39mmax() \u001B[38;5;241m-\u001B[39m x\u001B[38;5;241m.\u001B[39mmin())\n\u001B[0;32m      7\u001B[0m )\n\u001B[0;32m      9\u001B[0m \u001B[38;5;66;03m# Display the updated DataFrame with normalized salaries\u001B[39;00m\n\u001B[0;32m     10\u001B[0m display(employee_df[[\u001B[38;5;124m'\u001B[39m\u001B[38;5;124mEmployeeName\u001B[39m\u001B[38;5;124m'\u001B[39m, \u001B[38;5;124m'\u001B[39m\u001B[38;5;124mDepartment\u001B[39m\u001B[38;5;124m'\u001B[39m, \u001B[38;5;124m'\u001B[39m\u001B[38;5;124mSalary\u001B[39m\u001B[38;5;124m'\u001B[39m, \u001B[38;5;124m'\u001B[39m\u001B[38;5;124mNormalized_Salary\u001B[39m\u001B[38;5;124m'\u001B[39m]]\u001B[38;5;241m.\u001B[39mhead())\n",
      "File \u001B[1;32m~\\AppData\\Local\\Programs\\Python\\Python312\\Lib\\site-packages\\pandas\\core\\frame.py:9183\u001B[0m, in \u001B[0;36mDataFrame.groupby\u001B[1;34m(self, by, axis, level, as_index, sort, group_keys, observed, dropna)\u001B[0m\n\u001B[0;32m   9180\u001B[0m \u001B[38;5;28;01mif\u001B[39;00m level \u001B[38;5;129;01mis\u001B[39;00m \u001B[38;5;28;01mNone\u001B[39;00m \u001B[38;5;129;01mand\u001B[39;00m by \u001B[38;5;129;01mis\u001B[39;00m \u001B[38;5;28;01mNone\u001B[39;00m:\n\u001B[0;32m   9181\u001B[0m     \u001B[38;5;28;01mraise\u001B[39;00m \u001B[38;5;167;01mTypeError\u001B[39;00m(\u001B[38;5;124m\"\u001B[39m\u001B[38;5;124mYou have to supply one of \u001B[39m\u001B[38;5;124m'\u001B[39m\u001B[38;5;124mby\u001B[39m\u001B[38;5;124m'\u001B[39m\u001B[38;5;124m and \u001B[39m\u001B[38;5;124m'\u001B[39m\u001B[38;5;124mlevel\u001B[39m\u001B[38;5;124m'\u001B[39m\u001B[38;5;124m\"\u001B[39m)\n\u001B[1;32m-> 9183\u001B[0m \u001B[38;5;28;01mreturn\u001B[39;00m \u001B[43mDataFrameGroupBy\u001B[49m\u001B[43m(\u001B[49m\n\u001B[0;32m   9184\u001B[0m \u001B[43m    \u001B[49m\u001B[43mobj\u001B[49m\u001B[38;5;241;43m=\u001B[39;49m\u001B[38;5;28;43mself\u001B[39;49m\u001B[43m,\u001B[49m\n\u001B[0;32m   9185\u001B[0m \u001B[43m    \u001B[49m\u001B[43mkeys\u001B[49m\u001B[38;5;241;43m=\u001B[39;49m\u001B[43mby\u001B[49m\u001B[43m,\u001B[49m\n\u001B[0;32m   9186\u001B[0m \u001B[43m    \u001B[49m\u001B[43maxis\u001B[49m\u001B[38;5;241;43m=\u001B[39;49m\u001B[43maxis\u001B[49m\u001B[43m,\u001B[49m\n\u001B[0;32m   9187\u001B[0m \u001B[43m    \u001B[49m\u001B[43mlevel\u001B[49m\u001B[38;5;241;43m=\u001B[39;49m\u001B[43mlevel\u001B[49m\u001B[43m,\u001B[49m\n\u001B[0;32m   9188\u001B[0m \u001B[43m    \u001B[49m\u001B[43mas_index\u001B[49m\u001B[38;5;241;43m=\u001B[39;49m\u001B[43mas_index\u001B[49m\u001B[43m,\u001B[49m\n\u001B[0;32m   9189\u001B[0m \u001B[43m    \u001B[49m\u001B[43msort\u001B[49m\u001B[38;5;241;43m=\u001B[39;49m\u001B[43msort\u001B[49m\u001B[43m,\u001B[49m\n\u001B[0;32m   9190\u001B[0m \u001B[43m    \u001B[49m\u001B[43mgroup_keys\u001B[49m\u001B[38;5;241;43m=\u001B[39;49m\u001B[43mgroup_keys\u001B[49m\u001B[43m,\u001B[49m\n\u001B[0;32m   9191\u001B[0m \u001B[43m    \u001B[49m\u001B[43mobserved\u001B[49m\u001B[38;5;241;43m=\u001B[39;49m\u001B[43mobserved\u001B[49m\u001B[43m,\u001B[49m\n\u001B[0;32m   9192\u001B[0m \u001B[43m    \u001B[49m\u001B[43mdropna\u001B[49m\u001B[38;5;241;43m=\u001B[39;49m\u001B[43mdropna\u001B[49m\u001B[43m,\u001B[49m\n\u001B[0;32m   9193\u001B[0m \u001B[43m\u001B[49m\u001B[43m)\u001B[49m\n",
      "File \u001B[1;32m~\\AppData\\Local\\Programs\\Python\\Python312\\Lib\\site-packages\\pandas\\core\\groupby\\groupby.py:1329\u001B[0m, in \u001B[0;36mGroupBy.__init__\u001B[1;34m(self, obj, keys, axis, level, grouper, exclusions, selection, as_index, sort, group_keys, observed, dropna)\u001B[0m\n\u001B[0;32m   1326\u001B[0m \u001B[38;5;28mself\u001B[39m\u001B[38;5;241m.\u001B[39mdropna \u001B[38;5;241m=\u001B[39m dropna\n\u001B[0;32m   1328\u001B[0m \u001B[38;5;28;01mif\u001B[39;00m grouper \u001B[38;5;129;01mis\u001B[39;00m \u001B[38;5;28;01mNone\u001B[39;00m:\n\u001B[1;32m-> 1329\u001B[0m     grouper, exclusions, obj \u001B[38;5;241m=\u001B[39m \u001B[43mget_grouper\u001B[49m\u001B[43m(\u001B[49m\n\u001B[0;32m   1330\u001B[0m \u001B[43m        \u001B[49m\u001B[43mobj\u001B[49m\u001B[43m,\u001B[49m\n\u001B[0;32m   1331\u001B[0m \u001B[43m        \u001B[49m\u001B[43mkeys\u001B[49m\u001B[43m,\u001B[49m\n\u001B[0;32m   1332\u001B[0m \u001B[43m        \u001B[49m\u001B[43maxis\u001B[49m\u001B[38;5;241;43m=\u001B[39;49m\u001B[43maxis\u001B[49m\u001B[43m,\u001B[49m\n\u001B[0;32m   1333\u001B[0m \u001B[43m        \u001B[49m\u001B[43mlevel\u001B[49m\u001B[38;5;241;43m=\u001B[39;49m\u001B[43mlevel\u001B[49m\u001B[43m,\u001B[49m\n\u001B[0;32m   1334\u001B[0m \u001B[43m        \u001B[49m\u001B[43msort\u001B[49m\u001B[38;5;241;43m=\u001B[39;49m\u001B[43msort\u001B[49m\u001B[43m,\u001B[49m\n\u001B[0;32m   1335\u001B[0m \u001B[43m        \u001B[49m\u001B[43mobserved\u001B[49m\u001B[38;5;241;43m=\u001B[39;49m\u001B[38;5;28;43;01mFalse\u001B[39;49;00m\u001B[43m \u001B[49m\u001B[38;5;28;43;01mif\u001B[39;49;00m\u001B[43m \u001B[49m\u001B[43mobserved\u001B[49m\u001B[43m \u001B[49m\u001B[38;5;129;43;01mis\u001B[39;49;00m\u001B[43m \u001B[49m\u001B[43mlib\u001B[49m\u001B[38;5;241;43m.\u001B[39;49m\u001B[43mno_default\u001B[49m\u001B[43m \u001B[49m\u001B[38;5;28;43;01melse\u001B[39;49;00m\u001B[43m \u001B[49m\u001B[43mobserved\u001B[49m\u001B[43m,\u001B[49m\n\u001B[0;32m   1336\u001B[0m \u001B[43m        \u001B[49m\u001B[43mdropna\u001B[49m\u001B[38;5;241;43m=\u001B[39;49m\u001B[38;5;28;43mself\u001B[39;49m\u001B[38;5;241;43m.\u001B[39;49m\u001B[43mdropna\u001B[49m\u001B[43m,\u001B[49m\n\u001B[0;32m   1337\u001B[0m \u001B[43m    \u001B[49m\u001B[43m)\u001B[49m\n\u001B[0;32m   1339\u001B[0m \u001B[38;5;28;01mif\u001B[39;00m observed \u001B[38;5;129;01mis\u001B[39;00m lib\u001B[38;5;241m.\u001B[39mno_default:\n\u001B[0;32m   1340\u001B[0m     \u001B[38;5;28;01mif\u001B[39;00m \u001B[38;5;28many\u001B[39m(ping\u001B[38;5;241m.\u001B[39m_passed_categorical \u001B[38;5;28;01mfor\u001B[39;00m ping \u001B[38;5;129;01min\u001B[39;00m grouper\u001B[38;5;241m.\u001B[39mgroupings):\n",
      "File \u001B[1;32m~\\AppData\\Local\\Programs\\Python\\Python312\\Lib\\site-packages\\pandas\\core\\groupby\\grouper.py:1043\u001B[0m, in \u001B[0;36mget_grouper\u001B[1;34m(obj, key, axis, level, sort, observed, validate, dropna)\u001B[0m\n\u001B[0;32m   1041\u001B[0m         in_axis, level, gpr \u001B[38;5;241m=\u001B[39m \u001B[38;5;28;01mFalse\u001B[39;00m, gpr, \u001B[38;5;28;01mNone\u001B[39;00m\n\u001B[0;32m   1042\u001B[0m     \u001B[38;5;28;01melse\u001B[39;00m:\n\u001B[1;32m-> 1043\u001B[0m         \u001B[38;5;28;01mraise\u001B[39;00m \u001B[38;5;167;01mKeyError\u001B[39;00m(gpr)\n\u001B[0;32m   1044\u001B[0m \u001B[38;5;28;01melif\u001B[39;00m \u001B[38;5;28misinstance\u001B[39m(gpr, Grouper) \u001B[38;5;129;01mand\u001B[39;00m gpr\u001B[38;5;241m.\u001B[39mkey \u001B[38;5;129;01mis\u001B[39;00m \u001B[38;5;129;01mnot\u001B[39;00m \u001B[38;5;28;01mNone\u001B[39;00m:\n\u001B[0;32m   1045\u001B[0m     \u001B[38;5;66;03m# Add key to exclusions\u001B[39;00m\n\u001B[0;32m   1046\u001B[0m     exclusions\u001B[38;5;241m.\u001B[39madd(gpr\u001B[38;5;241m.\u001B[39mkey)\n",
      "\u001B[1;31mKeyError\u001B[0m: 'Department'"
     ]
    }
   ],
   "source": [
    "# Load Employee dataset\n",
    "employee_df = pd.read_csv(\"employee.csv\")\n",
    "\n",
    "# Normalize the salaries within each department\n",
    "employee_df['Normalized_Salary'] = employee_df.groupby('Department')['Salary'].transform(\n",
    "    lambda x: (x - x.min()) / (x.max() - x.min())\n",
    ")\n",
    "\n",
    "# Display the updated DataFrame with normalized salaries\n",
    "display(employee_df[['EmployeeName', 'Department', 'Salary', 'Normalized_Salary']].head())"
   ],
   "metadata": {
    "collapsed": false,
    "ExecuteTime": {
     "end_time": "2025-03-31T18:50:35.527315Z",
     "start_time": "2025-03-31T18:50:32.219337Z"
    }
   },
   "id": "955c3fb108fe3d89",
   "execution_count": 16
  },
  {
   "cell_type": "code",
   "outputs": [
    {
     "ename": "KeyError",
     "evalue": "\"['title'] not in index\"",
     "output_type": "error",
     "traceback": [
      "\u001B[1;31m---------------------------------------------------------------------------\u001B[0m",
      "\u001B[1;31mKeyError\u001B[0m                                  Traceback (most recent call last)",
      "Cell \u001B[1;32mIn[17], line 17\u001B[0m\n\u001B[0;32m     14\u001B[0m movie_df[\u001B[38;5;124m'\u001B[39m\u001B[38;5;124mDuration_Category\u001B[39m\u001B[38;5;124m'\u001B[39m] \u001B[38;5;241m=\u001B[39m movie_df[\u001B[38;5;124m'\u001B[39m\u001B[38;5;124mduration\u001B[39m\u001B[38;5;124m'\u001B[39m]\u001B[38;5;241m.\u001B[39mapply(classify_duration)\n\u001B[0;32m     16\u001B[0m \u001B[38;5;66;03m# Display the updated DataFrame with movie categories\u001B[39;00m\n\u001B[1;32m---> 17\u001B[0m display(\u001B[43mmovie_df\u001B[49m\u001B[43m[\u001B[49m\u001B[43m[\u001B[49m\u001B[38;5;124;43m'\u001B[39;49m\u001B[38;5;124;43mtitle\u001B[39;49m\u001B[38;5;124;43m'\u001B[39;49m\u001B[43m,\u001B[49m\u001B[43m \u001B[49m\u001B[38;5;124;43m'\u001B[39;49m\u001B[38;5;124;43mduration\u001B[39;49m\u001B[38;5;124;43m'\u001B[39;49m\u001B[43m,\u001B[49m\u001B[43m \u001B[49m\u001B[38;5;124;43m'\u001B[39;49m\u001B[38;5;124;43mDuration_Category\u001B[39;49m\u001B[38;5;124;43m'\u001B[39;49m\u001B[43m]\u001B[49m\u001B[43m]\u001B[49m\u001B[38;5;241m.\u001B[39mhead())\n",
      "File \u001B[1;32m~\\AppData\\Local\\Programs\\Python\\Python312\\Lib\\site-packages\\pandas\\core\\frame.py:4108\u001B[0m, in \u001B[0;36mDataFrame.__getitem__\u001B[1;34m(self, key)\u001B[0m\n\u001B[0;32m   4106\u001B[0m     \u001B[38;5;28;01mif\u001B[39;00m is_iterator(key):\n\u001B[0;32m   4107\u001B[0m         key \u001B[38;5;241m=\u001B[39m \u001B[38;5;28mlist\u001B[39m(key)\n\u001B[1;32m-> 4108\u001B[0m     indexer \u001B[38;5;241m=\u001B[39m \u001B[38;5;28;43mself\u001B[39;49m\u001B[38;5;241;43m.\u001B[39;49m\u001B[43mcolumns\u001B[49m\u001B[38;5;241;43m.\u001B[39;49m\u001B[43m_get_indexer_strict\u001B[49m\u001B[43m(\u001B[49m\u001B[43mkey\u001B[49m\u001B[43m,\u001B[49m\u001B[43m \u001B[49m\u001B[38;5;124;43m\"\u001B[39;49m\u001B[38;5;124;43mcolumns\u001B[39;49m\u001B[38;5;124;43m\"\u001B[39;49m\u001B[43m)\u001B[49m[\u001B[38;5;241m1\u001B[39m]\n\u001B[0;32m   4110\u001B[0m \u001B[38;5;66;03m# take() does not accept boolean indexers\u001B[39;00m\n\u001B[0;32m   4111\u001B[0m \u001B[38;5;28;01mif\u001B[39;00m \u001B[38;5;28mgetattr\u001B[39m(indexer, \u001B[38;5;124m\"\u001B[39m\u001B[38;5;124mdtype\u001B[39m\u001B[38;5;124m\"\u001B[39m, \u001B[38;5;28;01mNone\u001B[39;00m) \u001B[38;5;241m==\u001B[39m \u001B[38;5;28mbool\u001B[39m:\n",
      "File \u001B[1;32m~\\AppData\\Local\\Programs\\Python\\Python312\\Lib\\site-packages\\pandas\\core\\indexes\\base.py:6200\u001B[0m, in \u001B[0;36mIndex._get_indexer_strict\u001B[1;34m(self, key, axis_name)\u001B[0m\n\u001B[0;32m   6197\u001B[0m \u001B[38;5;28;01melse\u001B[39;00m:\n\u001B[0;32m   6198\u001B[0m     keyarr, indexer, new_indexer \u001B[38;5;241m=\u001B[39m \u001B[38;5;28mself\u001B[39m\u001B[38;5;241m.\u001B[39m_reindex_non_unique(keyarr)\n\u001B[1;32m-> 6200\u001B[0m \u001B[38;5;28;43mself\u001B[39;49m\u001B[38;5;241;43m.\u001B[39;49m\u001B[43m_raise_if_missing\u001B[49m\u001B[43m(\u001B[49m\u001B[43mkeyarr\u001B[49m\u001B[43m,\u001B[49m\u001B[43m \u001B[49m\u001B[43mindexer\u001B[49m\u001B[43m,\u001B[49m\u001B[43m \u001B[49m\u001B[43maxis_name\u001B[49m\u001B[43m)\u001B[49m\n\u001B[0;32m   6202\u001B[0m keyarr \u001B[38;5;241m=\u001B[39m \u001B[38;5;28mself\u001B[39m\u001B[38;5;241m.\u001B[39mtake(indexer)\n\u001B[0;32m   6203\u001B[0m \u001B[38;5;28;01mif\u001B[39;00m \u001B[38;5;28misinstance\u001B[39m(key, Index):\n\u001B[0;32m   6204\u001B[0m     \u001B[38;5;66;03m# GH 42790 - Preserve name from an Index\u001B[39;00m\n",
      "File \u001B[1;32m~\\AppData\\Local\\Programs\\Python\\Python312\\Lib\\site-packages\\pandas\\core\\indexes\\base.py:6252\u001B[0m, in \u001B[0;36mIndex._raise_if_missing\u001B[1;34m(self, key, indexer, axis_name)\u001B[0m\n\u001B[0;32m   6249\u001B[0m     \u001B[38;5;28;01mraise\u001B[39;00m \u001B[38;5;167;01mKeyError\u001B[39;00m(\u001B[38;5;124mf\u001B[39m\u001B[38;5;124m\"\u001B[39m\u001B[38;5;124mNone of [\u001B[39m\u001B[38;5;132;01m{\u001B[39;00mkey\u001B[38;5;132;01m}\u001B[39;00m\u001B[38;5;124m] are in the [\u001B[39m\u001B[38;5;132;01m{\u001B[39;00maxis_name\u001B[38;5;132;01m}\u001B[39;00m\u001B[38;5;124m]\u001B[39m\u001B[38;5;124m\"\u001B[39m)\n\u001B[0;32m   6251\u001B[0m not_found \u001B[38;5;241m=\u001B[39m \u001B[38;5;28mlist\u001B[39m(ensure_index(key)[missing_mask\u001B[38;5;241m.\u001B[39mnonzero()[\u001B[38;5;241m0\u001B[39m]]\u001B[38;5;241m.\u001B[39munique())\n\u001B[1;32m-> 6252\u001B[0m \u001B[38;5;28;01mraise\u001B[39;00m \u001B[38;5;167;01mKeyError\u001B[39;00m(\u001B[38;5;124mf\u001B[39m\u001B[38;5;124m\"\u001B[39m\u001B[38;5;132;01m{\u001B[39;00mnot_found\u001B[38;5;132;01m}\u001B[39;00m\u001B[38;5;124m not in index\u001B[39m\u001B[38;5;124m\"\u001B[39m)\n",
      "\u001B[1;31mKeyError\u001B[0m: \"['title'] not in index\""
     ]
    }
   ],
   "source": [
    "# Load Movie dataset\n",
    "movie_df = pd.read_csv(\"movie.csv\")\n",
    "\n",
    "# Define function to classify movie duration\n",
    "def classify_duration(duration):\n",
    "    if duration < 60:\n",
    "        return 'Short'\n",
    "    elif 60 <= duration <= 120:\n",
    "        return 'Medium'\n",
    "    else:\n",
    "        return 'Long'\n",
    "\n",
    "# Apply the function to classify movies based on duration\n",
    "movie_df['Duration_Category'] = movie_df['duration'].apply(classify_duration)\n",
    "\n",
    "# Display the updated DataFrame with movie categories\n",
    "display(movie_df[['title', 'duration', 'Duration_Category']].head())"
   ],
   "metadata": {
    "collapsed": false,
    "ExecuteTime": {
     "end_time": "2025-03-31T18:51:27.811845Z",
     "start_time": "2025-03-31T18:51:25.895209Z"
    }
   },
   "id": "d082afb4592408e3",
   "execution_count": 17
  },
  {
   "cell_type": "code",
   "outputs": [],
   "source": [],
   "metadata": {
    "collapsed": false
   },
   "id": "8c56aeb562544444"
  }
 ],
 "metadata": {
  "kernelspec": {
   "display_name": "Python 3",
   "language": "python",
   "name": "python3"
  },
  "language_info": {
   "codemirror_mode": {
    "name": "ipython",
    "version": 2
   },
   "file_extension": ".py",
   "mimetype": "text/x-python",
   "name": "python",
   "nbconvert_exporter": "python",
   "pygments_lexer": "ipython2",
   "version": "2.7.6"
  }
 },
 "nbformat": 4,
 "nbformat_minor": 5
}
